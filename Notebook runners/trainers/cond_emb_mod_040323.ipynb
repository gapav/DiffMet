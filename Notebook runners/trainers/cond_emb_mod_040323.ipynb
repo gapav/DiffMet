{
  "cells": [
    {
      "cell_type": "code",
      "execution_count": 1,
      "metadata": {
        "id": "QkskTZ7J8--_"
      },
      "outputs": [],
      "source": [
        "# from google.colab import drive\n",
        "# drive.mount('/content/drive')"
      ]
    },
    {
      "cell_type": "code",
      "execution_count": 2,
      "metadata": {
        "id": "Pnp-oO5g9Ws8"
      },
      "outputs": [],
      "source": [
        "\n",
        "# %pip install CRPS\n",
        "# %pip install torchgeo"
      ]
    },
    {
      "cell_type": "code",
      "execution_count": 3,
      "metadata": {
        "id": "taR19He7ZjLW"
      },
      "outputs": [],
      "source": [
        " \n",
        "# from pathlib import Path\n",
        "# import sys\n",
        "# !sudo apt-get install unzip\n",
        "# base = Path('/content/drive/MyDrive/ML/2023/conv_strat_dataset')\n",
        "# sys.path.append(str(base))\n",
        "\n",
        "# zip_path = base/\"lwe_dataset_010322.zip\"\n",
        "\n",
        "\n",
        "# !cp \"{zip_path}\" .\n",
        "\n",
        "# !unzip -q lwe_dataset_010322.zip -d \"/content\"\n",
        "\n",
        "# !rm lwe_dataset_010322.zip\n",
        "\n",
        "\n"
      ]
    },
    {
      "cell_type": "markdown",
      "metadata": {
        "id": "VfCa50HYsDsm"
      },
      "source": []
    },
    {
      "cell_type": "code",
      "execution_count": 4,
      "metadata": {
        "id": "Pe8ibXtZ87sM"
      },
      "outputs": [],
      "source": [
        "import torch\n",
        "import torchvision\n",
        "import matplotlib.pyplot as plt\n",
        "import random\n",
        "import json\n",
        "from tqdm import tqdm\n",
        "import os\n",
        "from os import listdir\n",
        "from PIL import Image\n",
        "from datetime import date\n",
        "import torch.nn as nn\n",
        "import torch.optim as optim\n",
        "from torch.optim import lr_scheduler\n",
        "import torch\n",
        "from skimage import io, transform\n",
        "import numpy as np\n",
        "import matplotlib.pyplot as plt\n",
        "from torch.utils.data import Dataset, DataLoader\n",
        "from torchvision import transforms, utils\n",
        "import torch.nn.functional as F\n",
        "from torch.optim import Adam\n",
        "\n",
        "# import wandb\n",
        "# import CRPS.CRPS as pscore\n",
        "\n",
        "\n",
        "from prec_dataset import RadarPrecipitationSequence\n",
        "from radar_transforms import radar_transform\n",
        "from plotting_funcs import show_sequence\n",
        "from radar_transforms import radar_transform, reverse_transform, conditional_embedding_transform\n",
        "from fdp import fdp_sample, get_named_beta_schedule\n",
        "from unet_refr_emb_GPU_0203 import UNet_embedding\n",
        "from loss import loss_fn\n",
        "from sampler import sample_plot_image\n",
        "from helper_module import get_random_test_seq, get_CRPS_sequence\n",
        "from calc_metrics import get_CRPS\n",
        "\n",
        "config = dict(\n",
        "    img_out_size=64,\n",
        "    rgb_grayscale=1,\n",
        "    sequence_length=4,\n",
        "    max_prec_val=3.4199221045419974,\n",
        "    prediction_time_step_ahead=1,\n",
        "    frames_to_predict=1,\n",
        "    num_cond_frames=3,\n",
        "    epochs=51,\n",
        "    batch_size=24,\n",
        "    lr=0.001,\n",
        "    T=300,\n",
        "    schedule=\"linear\",\n",
        "    root_dir=r\"/content/lwe_dataset_010322\",\n",
        "    validate_on_convective = False,\n",
        "    plot_folder = \"/content/drive/MyDrive/ML/results/plots/0403_cond_emb\"\n",
        ")\n",
        "\n",
        "plot_folder = config[\"plot_folder\"]\n",
        "with open(f'{plot_folder}/config.json', 'w') as fp:\n",
        "    json.dump(config, fp)\n",
        "\n",
        "betas = get_named_beta_schedule(\n",
        "    schedule_name=config[\"schedule\"], num_diffusion_timesteps=config[\"T\"]\n",
        ")\n",
        "T = config[\"T\"]\n",
        "alphas = 1.0 - betas\n",
        "alphas_cumprod = torch.cumprod(alphas, axis=0)\n",
        "alphas_cumprod_prev = F.pad(alphas_cumprod[:-1], (1, 0), value=1.0)\n",
        "sqrt_recip_alphas = torch.sqrt(1.0 / alphas)\n",
        "sqrt_alphas_cumprod = torch.sqrt(alphas_cumprod)\n",
        "sqrt_one_minus_alphas_cumprod = torch.sqrt(1.0 - alphas_cumprod)\n",
        "posterior_variance = betas * (1.0 - alphas_cumprod_prev) / (1.0 - alphas_cumprod)\n",
        "\n",
        "\n",
        "device = \"cuda\" if torch.cuda.is_available() else \"cpu\"\n",
        "\n"
      ]
    },
    {
      "cell_type": "code",
      "execution_count": 5,
      "metadata": {
        "colab": {
          "base_uri": "https://localhost:8080/"
        },
        "id": "6rqRgWcjsDso",
        "outputId": "28dc92f4-e21e-433f-db4d-c57ab58730b6"
      },
      "outputs": [
        {
          "output_type": "execute_result",
          "data": {
            "text/plain": [
              "ResNet(\n",
              "  (conv1): Conv2d(3, 64, kernel_size=(7, 7), stride=(2, 2), padding=(3, 3), bias=False)\n",
              "  (bn1): BatchNorm2d(64, eps=1e-05, momentum=0.1, affine=True, track_running_stats=True)\n",
              "  (act1): ReLU(inplace=True)\n",
              "  (maxpool): MaxPool2d(kernel_size=3, stride=2, padding=1, dilation=1, ceil_mode=False)\n",
              "  (layer1): Sequential(\n",
              "    (0): BasicBlock(\n",
              "      (conv1): Conv2d(64, 64, kernel_size=(3, 3), stride=(1, 1), padding=(1, 1), bias=False)\n",
              "      (bn1): BatchNorm2d(64, eps=1e-05, momentum=0.1, affine=True, track_running_stats=True)\n",
              "      (drop_block): Identity()\n",
              "      (act1): ReLU(inplace=True)\n",
              "      (aa): Identity()\n",
              "      (conv2): Conv2d(64, 64, kernel_size=(3, 3), stride=(1, 1), padding=(1, 1), bias=False)\n",
              "      (bn2): BatchNorm2d(64, eps=1e-05, momentum=0.1, affine=True, track_running_stats=True)\n",
              "      (act2): ReLU(inplace=True)\n",
              "    )\n",
              "    (1): BasicBlock(\n",
              "      (conv1): Conv2d(64, 64, kernel_size=(3, 3), stride=(1, 1), padding=(1, 1), bias=False)\n",
              "      (bn1): BatchNorm2d(64, eps=1e-05, momentum=0.1, affine=True, track_running_stats=True)\n",
              "      (drop_block): Identity()\n",
              "      (act1): ReLU(inplace=True)\n",
              "      (aa): Identity()\n",
              "      (conv2): Conv2d(64, 64, kernel_size=(3, 3), stride=(1, 1), padding=(1, 1), bias=False)\n",
              "      (bn2): BatchNorm2d(64, eps=1e-05, momentum=0.1, affine=True, track_running_stats=True)\n",
              "      (act2): ReLU(inplace=True)\n",
              "    )\n",
              "  )\n",
              "  (layer2): Sequential(\n",
              "    (0): BasicBlock(\n",
              "      (conv1): Conv2d(64, 128, kernel_size=(3, 3), stride=(2, 2), padding=(1, 1), bias=False)\n",
              "      (bn1): BatchNorm2d(128, eps=1e-05, momentum=0.1, affine=True, track_running_stats=True)\n",
              "      (drop_block): Identity()\n",
              "      (act1): ReLU(inplace=True)\n",
              "      (aa): Identity()\n",
              "      (conv2): Conv2d(128, 128, kernel_size=(3, 3), stride=(1, 1), padding=(1, 1), bias=False)\n",
              "      (bn2): BatchNorm2d(128, eps=1e-05, momentum=0.1, affine=True, track_running_stats=True)\n",
              "      (act2): ReLU(inplace=True)\n",
              "      (downsample): Sequential(\n",
              "        (0): Conv2d(64, 128, kernel_size=(1, 1), stride=(2, 2), bias=False)\n",
              "        (1): BatchNorm2d(128, eps=1e-05, momentum=0.1, affine=True, track_running_stats=True)\n",
              "      )\n",
              "    )\n",
              "    (1): BasicBlock(\n",
              "      (conv1): Conv2d(128, 128, kernel_size=(3, 3), stride=(1, 1), padding=(1, 1), bias=False)\n",
              "      (bn1): BatchNorm2d(128, eps=1e-05, momentum=0.1, affine=True, track_running_stats=True)\n",
              "      (drop_block): Identity()\n",
              "      (act1): ReLU(inplace=True)\n",
              "      (aa): Identity()\n",
              "      (conv2): Conv2d(128, 128, kernel_size=(3, 3), stride=(1, 1), padding=(1, 1), bias=False)\n",
              "      (bn2): BatchNorm2d(128, eps=1e-05, momentum=0.1, affine=True, track_running_stats=True)\n",
              "      (act2): ReLU(inplace=True)\n",
              "    )\n",
              "  )\n",
              "  (layer3): Sequential(\n",
              "    (0): BasicBlock(\n",
              "      (conv1): Conv2d(128, 256, kernel_size=(3, 3), stride=(2, 2), padding=(1, 1), bias=False)\n",
              "      (bn1): BatchNorm2d(256, eps=1e-05, momentum=0.1, affine=True, track_running_stats=True)\n",
              "      (drop_block): Identity()\n",
              "      (act1): ReLU(inplace=True)\n",
              "      (aa): Identity()\n",
              "      (conv2): Conv2d(256, 256, kernel_size=(3, 3), stride=(1, 1), padding=(1, 1), bias=False)\n",
              "      (bn2): BatchNorm2d(256, eps=1e-05, momentum=0.1, affine=True, track_running_stats=True)\n",
              "      (act2): ReLU(inplace=True)\n",
              "      (downsample): Sequential(\n",
              "        (0): Conv2d(128, 256, kernel_size=(1, 1), stride=(2, 2), bias=False)\n",
              "        (1): BatchNorm2d(256, eps=1e-05, momentum=0.1, affine=True, track_running_stats=True)\n",
              "      )\n",
              "    )\n",
              "    (1): BasicBlock(\n",
              "      (conv1): Conv2d(256, 256, kernel_size=(3, 3), stride=(1, 1), padding=(1, 1), bias=False)\n",
              "      (bn1): BatchNorm2d(256, eps=1e-05, momentum=0.1, affine=True, track_running_stats=True)\n",
              "      (drop_block): Identity()\n",
              "      (act1): ReLU(inplace=True)\n",
              "      (aa): Identity()\n",
              "      (conv2): Conv2d(256, 256, kernel_size=(3, 3), stride=(1, 1), padding=(1, 1), bias=False)\n",
              "      (bn2): BatchNorm2d(256, eps=1e-05, momentum=0.1, affine=True, track_running_stats=True)\n",
              "      (act2): ReLU(inplace=True)\n",
              "    )\n",
              "  )\n",
              "  (layer4): Sequential(\n",
              "    (0): BasicBlock(\n",
              "      (conv1): Conv2d(256, 512, kernel_size=(3, 3), stride=(2, 2), padding=(1, 1), bias=False)\n",
              "      (bn1): BatchNorm2d(512, eps=1e-05, momentum=0.1, affine=True, track_running_stats=True)\n",
              "      (drop_block): Identity()\n",
              "      (act1): ReLU(inplace=True)\n",
              "      (aa): Identity()\n",
              "      (conv2): Conv2d(512, 512, kernel_size=(3, 3), stride=(1, 1), padding=(1, 1), bias=False)\n",
              "      (bn2): BatchNorm2d(512, eps=1e-05, momentum=0.1, affine=True, track_running_stats=True)\n",
              "      (act2): ReLU(inplace=True)\n",
              "      (downsample): Sequential(\n",
              "        (0): Conv2d(256, 512, kernel_size=(1, 1), stride=(2, 2), bias=False)\n",
              "        (1): BatchNorm2d(512, eps=1e-05, momentum=0.1, affine=True, track_running_stats=True)\n",
              "      )\n",
              "    )\n",
              "    (1): BasicBlock(\n",
              "      (conv1): Conv2d(512, 512, kernel_size=(3, 3), stride=(1, 1), padding=(1, 1), bias=False)\n",
              "      (bn1): BatchNorm2d(512, eps=1e-05, momentum=0.1, affine=True, track_running_stats=True)\n",
              "      (drop_block): Identity()\n",
              "      (act1): ReLU(inplace=True)\n",
              "      (aa): Identity()\n",
              "      (conv2): Conv2d(512, 512, kernel_size=(3, 3), stride=(1, 1), padding=(1, 1), bias=False)\n",
              "      (bn2): BatchNorm2d(512, eps=1e-05, momentum=0.1, affine=True, track_running_stats=True)\n",
              "      (act2): ReLU(inplace=True)\n",
              "    )\n",
              "  )\n",
              "  (global_pool): SelectAdaptivePool2d (pool_type=avg, flatten=Flatten(start_dim=1, end_dim=-1))\n",
              "  (fc): Linear(in_features=512, out_features=1000, bias=True)\n",
              ")"
            ]
          },
          "metadata": {},
          "execution_count": 5
        }
      ],
      "source": [
        "import torch\n",
        "from torchgeo.models import resnet18, ResNet18_Weights\n",
        "\n",
        "weights = ResNet18_Weights.SENTINEL2_RGB_MOCO\n",
        "\n",
        "cond_emb_model = resnet18(weights=weights)\n",
        "cond_emb_model.to(device)\n",
        "cond_emb_model.eval()\n"
      ]
    },
    {
      "cell_type": "code",
      "execution_count": 6,
      "metadata": {
        "colab": {
          "base_uri": "https://localhost:8080/"
        },
        "id": "gazouiXkO1Fv",
        "outputId": "2669f30e-e4ac-4025-f6df-b42266c936c0"
      },
      "outputs": [
        {
          "output_type": "execute_result",
          "data": {
            "text/plain": [
              "UNet_embedding(\n",
              "  (time_mlp): Sequential(\n",
              "    (0): SinusoidalPositionEmbeddings()\n",
              "    (1): Linear(in_features=256, out_features=256, bias=True)\n",
              "    (2): ReLU()\n",
              "  )\n",
              "  (init_conv): Conv2d(1, 64, kernel_size=(3, 3), stride=(1, 1), padding=(1, 1))\n",
              "  (down1): Encoder(\n",
              "    (time_mlp): Linear(in_features=256, out_features=128, bias=True)\n",
              "    (emb_conv): Conv2d(512, 128, kernel_size=(1, 1), stride=(1, 1))\n",
              "    (conv_chs_add): Conv2d(64, 128, kernel_size=(3, 3), stride=(1, 1), padding=(1, 1))\n",
              "    (conv_middle2): Conv2d(128, 128, kernel_size=(3, 3), stride=(1, 1), padding=(1, 1))\n",
              "    (conv_final3): Conv2d(128, 128, kernel_size=(4, 4), stride=(2, 2), padding=(1, 1))\n",
              "    (GELU): GELU(approximate='none')\n",
              "    (ReLU): ReLU()\n",
              "    (GN): GroupNorm(1, 128, eps=1e-05, affine=True)\n",
              "    (dropout): Dropout(p=0.25, inplace=False)\n",
              "  )\n",
              "  (down2): Encoder(\n",
              "    (time_mlp): Linear(in_features=256, out_features=256, bias=True)\n",
              "    (emb_conv): Conv2d(512, 256, kernel_size=(1, 1), stride=(1, 1))\n",
              "    (conv_chs_add): Conv2d(128, 256, kernel_size=(3, 3), stride=(1, 1), padding=(1, 1))\n",
              "    (conv_middle2): Conv2d(256, 256, kernel_size=(3, 3), stride=(1, 1), padding=(1, 1))\n",
              "    (conv_final3): Conv2d(256, 256, kernel_size=(4, 4), stride=(2, 2), padding=(1, 1))\n",
              "    (GELU): GELU(approximate='none')\n",
              "    (ReLU): ReLU()\n",
              "    (GN): GroupNorm(1, 256, eps=1e-05, affine=True)\n",
              "    (dropout): Dropout(p=0.25, inplace=False)\n",
              "  )\n",
              "  (down3): Encoder(\n",
              "    (time_mlp): Linear(in_features=256, out_features=512, bias=True)\n",
              "    (emb_conv): Conv2d(512, 512, kernel_size=(1, 1), stride=(1, 1))\n",
              "    (conv_chs_add): Conv2d(256, 512, kernel_size=(3, 3), stride=(1, 1), padding=(1, 1))\n",
              "    (conv_middle2): Conv2d(512, 512, kernel_size=(3, 3), stride=(1, 1), padding=(1, 1))\n",
              "    (conv_final3): Conv2d(512, 512, kernel_size=(4, 4), stride=(2, 2), padding=(1, 1))\n",
              "    (GELU): GELU(approximate='none')\n",
              "    (ReLU): ReLU()\n",
              "    (GN): GroupNorm(1, 512, eps=1e-05, affine=True)\n",
              "    (dropout): Dropout(p=0.25, inplace=False)\n",
              "  )\n",
              "  (down4): Encoder(\n",
              "    (time_mlp): Linear(in_features=256, out_features=1024, bias=True)\n",
              "    (emb_conv): Conv2d(512, 1024, kernel_size=(1, 1), stride=(1, 1))\n",
              "    (conv_chs_add): Conv2d(512, 1024, kernel_size=(3, 3), stride=(1, 1), padding=(1, 1))\n",
              "    (conv_middle2): Conv2d(1024, 1024, kernel_size=(3, 3), stride=(1, 1), padding=(1, 1))\n",
              "    (conv_final3): Conv2d(1024, 1024, kernel_size=(4, 4), stride=(2, 2), padding=(1, 1))\n",
              "    (GELU): GELU(approximate='none')\n",
              "    (ReLU): ReLU()\n",
              "    (GN): GroupNorm(1, 1024, eps=1e-05, affine=True)\n",
              "    (dropout): Dropout(p=0.25, inplace=False)\n",
              "  )\n",
              "  (up1): Decoder(\n",
              "    (time_mlp): Linear(in_features=256, out_features=512, bias=True)\n",
              "    (emb_conv): Conv2d(512, 512, kernel_size=(1, 1), stride=(1, 1))\n",
              "    (conv_chs_rm): Conv2d(2048, 512, kernel_size=(3, 3), stride=(1, 1), padding=(1, 1))\n",
              "    (conv_middle2): Conv2d(512, 512, kernel_size=(3, 3), stride=(1, 1), padding=(1, 1))\n",
              "    (conv_final3): ConvTranspose2d(512, 512, kernel_size=(4, 4), stride=(2, 2), padding=(1, 1))\n",
              "    (GELU): GELU(approximate='none')\n",
              "    (ReLU): ReLU()\n",
              "    (dropout): Dropout(p=0.25, inplace=False)\n",
              "    (GN): GroupNorm(1, 512, eps=1e-05, affine=True)\n",
              "  )\n",
              "  (up2): Decoder(\n",
              "    (time_mlp): Linear(in_features=256, out_features=256, bias=True)\n",
              "    (emb_conv): Conv2d(512, 256, kernel_size=(1, 1), stride=(1, 1))\n",
              "    (conv_chs_rm): Conv2d(1024, 256, kernel_size=(3, 3), stride=(1, 1), padding=(1, 1))\n",
              "    (conv_middle2): Conv2d(256, 256, kernel_size=(3, 3), stride=(1, 1), padding=(1, 1))\n",
              "    (conv_final3): ConvTranspose2d(256, 256, kernel_size=(4, 4), stride=(2, 2), padding=(1, 1))\n",
              "    (GELU): GELU(approximate='none')\n",
              "    (ReLU): ReLU()\n",
              "    (dropout): Dropout(p=0.25, inplace=False)\n",
              "    (GN): GroupNorm(1, 256, eps=1e-05, affine=True)\n",
              "  )\n",
              "  (up3): Decoder(\n",
              "    (time_mlp): Linear(in_features=256, out_features=128, bias=True)\n",
              "    (emb_conv): Conv2d(512, 128, kernel_size=(1, 1), stride=(1, 1))\n",
              "    (conv_chs_rm): Conv2d(512, 128, kernel_size=(3, 3), stride=(1, 1), padding=(1, 1))\n",
              "    (conv_middle2): Conv2d(128, 128, kernel_size=(3, 3), stride=(1, 1), padding=(1, 1))\n",
              "    (conv_final3): ConvTranspose2d(128, 128, kernel_size=(4, 4), stride=(2, 2), padding=(1, 1))\n",
              "    (GELU): GELU(approximate='none')\n",
              "    (ReLU): ReLU()\n",
              "    (dropout): Dropout(p=0.25, inplace=False)\n",
              "    (GN): GroupNorm(1, 128, eps=1e-05, affine=True)\n",
              "  )\n",
              "  (up4): Decoder(\n",
              "    (time_mlp): Linear(in_features=256, out_features=64, bias=True)\n",
              "    (emb_conv): Conv2d(512, 64, kernel_size=(1, 1), stride=(1, 1))\n",
              "    (conv_chs_rm): Conv2d(256, 64, kernel_size=(3, 3), stride=(1, 1), padding=(1, 1))\n",
              "    (conv_middle2): Conv2d(64, 64, kernel_size=(3, 3), stride=(1, 1), padding=(1, 1))\n",
              "    (conv_final3): ConvTranspose2d(64, 64, kernel_size=(4, 4), stride=(2, 2), padding=(1, 1))\n",
              "    (GELU): GELU(approximate='none')\n",
              "    (ReLU): ReLU()\n",
              "    (dropout): Dropout(p=0.25, inplace=False)\n",
              "    (GN): GroupNorm(1, 64, eps=1e-05, affine=True)\n",
              "  )\n",
              "  (out_conv): Conv2d(64, 1, kernel_size=(1, 1), stride=(1, 1))\n",
              ")"
            ]
          },
          "metadata": {},
          "execution_count": 6
        }
      ],
      "source": [
        "model = UNet_embedding(rgb_grayscale=1, num_cond_frames=3, device=device)\n",
        "model = model.to(device)\n",
        "model.eval()\n"
      ]
    },
    {
      "cell_type": "markdown",
      "metadata": {
        "id": "tgmVVa4-87sQ"
      },
      "source": [
        "### Define datasets and dataloader: "
      ]
    },
    {
      "cell_type": "code",
      "execution_count": 7,
      "metadata": {
        "id": "lS2gqHvq87sR"
      },
      "outputs": [],
      "source": [
        "dataset_radar_sequence = RadarPrecipitationSequence(\n",
        "    root_dir=config[\"root_dir\"],\n",
        "    transform=radar_transform(max_prec_val=config[\"max_prec_val\"]),\n",
        "    emb_transform=conditional_embedding_transform(max_prec_val=config[\"max_prec_val\"]),\n",
        "    num_cond_frames=config[\"num_cond_frames\"],\n",
        "    frames_to_predict=config[\"frames_to_predict\"],\n",
        "    img_out_size=config[\"img_out_size\"],\n",
        "    prediction_time_step_ahead=config[\"prediction_time_step_ahead\"],\n",
        "    train_test_val = \"train\"\n",
        ")\n",
        "dataset_radar_sequence_val = RadarPrecipitationSequence(\n",
        "    root_dir=config[\"root_dir\"],\n",
        "    transform=radar_transform(max_prec_val=config[\"max_prec_val\"]),\n",
        "    emb_transform=conditional_embedding_transform(max_prec_val=config[\"max_prec_val\"]),\n",
        "    num_cond_frames=config[\"num_cond_frames\"],\n",
        "    frames_to_predict=config[\"frames_to_predict\"],\n",
        "    img_out_size=config[\"img_out_size\"],\n",
        "    prediction_time_step_ahead=config[\"prediction_time_step_ahead\"],\n",
        "    train_test_val = \"val\"\n",
        ")\n",
        "\n",
        "dataset_radar_sequence_val_CRPS = RadarPrecipitationSequence(\n",
        "    root_dir=config[\"root_dir\"],\n",
        "    transform=radar_transform(max_prec_val=config[\"max_prec_val\"]),\n",
        "    emb_transform=conditional_embedding_transform(max_prec_val=config[\"max_prec_val\"]),\n",
        "    num_cond_frames=config[\"num_cond_frames\"],\n",
        "    frames_to_predict=config[\"frames_to_predict\"],\n",
        "    img_out_size=config[\"img_out_size\"],\n",
        "    prediction_time_step_ahead=config[\"prediction_time_step_ahead\"],\n",
        "    train_test_val = \"val\",\n",
        "    center_crop = True\n",
        ")\n",
        "\n",
        "# dataset_radar_sequence_test = RadarPrecipitationSequence(\n",
        "#     root_dir=config[\"root_dir\"],\n",
        "#     transform=radar_transform(max_prec_val=config[\"max_prec_val\"]),\n",
        "#     emb_transform=conditional_embedding_transform(max_prec_val=config[\"max_prec_val\"]),\n",
        "#     num_cond_frames=config[\"num_cond_frames\"],\n",
        "#     frames_to_predict=config[\"frames_to_predict\"],\n",
        "#     img_out_size=config[\"img_out_size\"],\n",
        "#     prediction_time_step_ahead=config[\"prediction_time_step_ahead\"],\n",
        "#     train_test_val = \"test\"\n",
        "\n",
        "# )\n",
        "\n",
        "# dataset_radar_sequence_test = RadarPrecipitationSequence(root_dir=\"dataset_1000_five_seq\", transform= radar_transform(IMG_SIZE=img_out_size), output_img_size=img_out_size, train=False)\n",
        "dataloader = DataLoader(\n",
        "    dataset_radar_sequence,\n",
        "    batch_size=config[\"batch_size\"],\n",
        "    shuffle=True,\n",
        "    drop_last=True,\n",
        ")\n",
        "\n",
        "validation_dataloader = DataLoader(\n",
        "    dataset_radar_sequence_val,\n",
        "    batch_size=config[\"batch_size\"],\n",
        "    shuffle=True,\n",
        "    drop_last=True,\n",
        ")\n",
        "validation_dataloader_CRPS = DataLoader(\n",
        "    dataset_radar_sequence_val_CRPS,\n",
        "    batch_size=config[\"batch_size\"],\n",
        "    shuffle=False,\n",
        "    drop_last=True,\n",
        ")\n",
        "\n"
      ]
    },
    {
      "cell_type": "markdown",
      "metadata": {
        "id": "zEFxphfH87sS"
      },
      "source": [
        "### Random samples from dataset: "
      ]
    },
    {
      "cell_type": "code",
      "execution_count": 8,
      "metadata": {
        "id": "Zen6ObkK87sS"
      },
      "outputs": [],
      "source": [
        "# for i in range(3):\n",
        "#     idx = np.random.randint(low=0, high=250)\n",
        "#     test_sample = dataset_radar_sequence_test.__getitem__(idx)\n",
        "\n",
        "#     show_sequence(test_sample, config[\"sequence_length\"], pred_ahead= config[\"prediction_time_step_ahead\"])"
      ]
    },
    {
      "cell_type": "markdown",
      "metadata": {
        "id": "FfMhUHcH87sT"
      },
      "source": [
        "### Simulate forward diffusion process: "
      ]
    },
    {
      "cell_type": "code",
      "execution_count": 9,
      "metadata": {
        "id": "YX-Ng5OH87sT"
      },
      "outputs": [],
      "source": [
        "# simulate_fdp(forward_diffusion_sample=forward_diffusion_sample, dataloader=dataloader,sqrt_one_minus_alphas_cumprod = sqrt_one_minus_alphas_cumprod, sqrt_alphas_cumprod=sqrt_alphas_cumprod, T=config[\"T\"])"
      ]
    },
    {
      "cell_type": "markdown",
      "metadata": {
        "id": "ZJWENxEg87sU"
      },
      "source": [
        "### Train Model:"
      ]
    },
    {
      "cell_type": "code",
      "execution_count": 10,
      "metadata": {
        "colab": {
          "base_uri": "https://localhost:8080/"
        },
        "id": "XdO3cHtg87sU",
        "outputId": "7b7d277a-312d-4c90-f95a-b77f16b97b68"
      },
      "outputs": [
        {
          "output_type": "stream",
          "name": "stderr",
          "text": [
            "100%|██████████| 335/335 [05:20<00:00,  1.04it/s]\n",
            "100%|██████████| 41/41 [00:49<00:00,  1.20s/it]\n"
          ]
        },
        {
          "output_type": "stream",
          "name": "stdout",
          "text": [
            "Epoch 0 | Avg Train Loss: 0.19958274131501788, Avg Validation Loss: 0.0453123345789386 \n"
          ]
        },
        {
          "output_type": "stream",
          "name": "stderr",
          "text": [
            "100%|██████████| 335/335 [05:16<00:00,  1.06it/s]\n",
            "100%|██████████| 41/41 [00:49<00:00,  1.20s/it]\n"
          ]
        },
        {
          "output_type": "stream",
          "name": "stdout",
          "text": [
            "Epoch 1 | Avg Train Loss: 0.05829735706880022, Avg Validation Loss: 0.039163558721178916 \n"
          ]
        },
        {
          "output_type": "stream",
          "name": "stderr",
          "text": [
            "100%|██████████| 335/335 [05:17<00:00,  1.05it/s]\n",
            "100%|██████████| 41/41 [00:49<00:00,  1.20s/it]\n"
          ]
        },
        {
          "output_type": "stream",
          "name": "stdout",
          "text": [
            "Epoch 2 | Avg Train Loss: 0.05135766820453886, Avg Validation Loss: 0.042717549177568134 \n"
          ]
        },
        {
          "output_type": "stream",
          "name": "stderr",
          "text": [
            "100%|██████████| 335/335 [05:17<00:00,  1.06it/s]\n",
            "100%|██████████| 41/41 [00:49<00:00,  1.22s/it]\n"
          ]
        },
        {
          "output_type": "stream",
          "name": "stdout",
          "text": [
            "Epoch 3 | Avg Train Loss: 0.04759422694680406, Avg Validation Loss: 0.037470002681380364 \n"
          ]
        },
        {
          "output_type": "stream",
          "name": "stderr",
          "text": [
            "100%|██████████| 335/335 [05:18<00:00,  1.05it/s]\n",
            "100%|██████████| 41/41 [00:49<00:00,  1.21s/it]\n"
          ]
        },
        {
          "output_type": "stream",
          "name": "stdout",
          "text": [
            "Epoch 4 | Avg Train Loss: 0.0480915759982013, Avg Validation Loss: 0.03204439584983558 \n"
          ]
        },
        {
          "output_type": "stream",
          "name": "stderr",
          "text": [
            "100%|██████████| 335/335 [05:16<00:00,  1.06it/s]\n",
            "100%|██████████| 41/41 [00:49<00:00,  1.20s/it]\n"
          ]
        },
        {
          "output_type": "stream",
          "name": "stdout",
          "text": [
            "Epoch 5 | Avg Train Loss: 0.04717135179732273, Avg Validation Loss: 0.03355037093889422 \n"
          ]
        },
        {
          "output_type": "stream",
          "name": "stderr",
          "text": [
            "100%|██████████| 335/335 [05:14<00:00,  1.07it/s]\n",
            "100%|██████████| 41/41 [00:48<00:00,  1.18s/it]\n"
          ]
        },
        {
          "output_type": "stream",
          "name": "stdout",
          "text": [
            "Epoch 6 | Avg Train Loss: 0.0460846723238034, Avg Validation Loss: 0.03050235972353598 \n"
          ]
        },
        {
          "output_type": "stream",
          "name": "stderr",
          "text": [
            "100%|██████████| 335/335 [05:11<00:00,  1.07it/s]\n",
            "100%|██████████| 41/41 [00:47<00:00,  1.17s/it]\n"
          ]
        },
        {
          "output_type": "stream",
          "name": "stdout",
          "text": [
            "Epoch 7 | Avg Train Loss: 0.044859226025752166, Avg Validation Loss: 0.03202223925419697 \n"
          ]
        },
        {
          "output_type": "stream",
          "name": "stderr",
          "text": [
            "100%|██████████| 335/335 [05:13<00:00,  1.07it/s]\n",
            "100%|██████████| 41/41 [00:48<00:00,  1.19s/it]\n"
          ]
        },
        {
          "output_type": "stream",
          "name": "stdout",
          "text": [
            "Epoch 8 | Avg Train Loss: 0.0427112230113638, Avg Validation Loss: 0.03444968924925822 \n"
          ]
        },
        {
          "output_type": "stream",
          "name": "stderr",
          "text": [
            "100%|██████████| 335/335 [05:18<00:00,  1.05it/s]\n",
            "100%|██████████| 41/41 [00:48<00:00,  1.18s/it]\n"
          ]
        },
        {
          "output_type": "stream",
          "name": "stdout",
          "text": [
            "Epoch 9 | Avg Train Loss: 0.041385324566221945, Avg Validation Loss: 0.033803308995940334 \n"
          ]
        },
        {
          "output_type": "stream",
          "name": "stderr",
          "text": [
            "100%|██████████| 335/335 [05:12<00:00,  1.07it/s]\n",
            "100%|██████████| 41/41 [00:47<00:00,  1.17s/it]\n"
          ]
        },
        {
          "output_type": "stream",
          "name": "stdout",
          "text": [
            "Epoch 10 | Avg Train Loss: 0.041037974478815915, Avg Validation Loss: 0.029750865361675982 \n"
          ]
        },
        {
          "output_type": "stream",
          "name": "stderr",
          "text": [
            "100%|██████████| 335/335 [05:15<00:00,  1.06it/s]\n",
            "100%|██████████| 41/41 [00:48<00:00,  1.18s/it]\n"
          ]
        },
        {
          "output_type": "stream",
          "name": "stdout",
          "text": [
            "Epoch 11 | Avg Train Loss: 0.04003417073790707, Avg Validation Loss: 0.03025245941357642 \n"
          ]
        },
        {
          "output_type": "stream",
          "name": "stderr",
          "text": [
            "100%|██████████| 335/335 [05:15<00:00,  1.06it/s]\n",
            "100%|██████████| 41/41 [00:48<00:00,  1.19s/it]\n"
          ]
        },
        {
          "output_type": "stream",
          "name": "stdout",
          "text": [
            "Epoch 12 | Avg Train Loss: 0.04009186943520361, Avg Validation Loss: 0.033935824795285376 \n"
          ]
        },
        {
          "output_type": "stream",
          "name": "stderr",
          "text": [
            "100%|██████████| 335/335 [05:13<00:00,  1.07it/s]\n",
            "100%|██████████| 41/41 [00:48<00:00,  1.19s/it]\n"
          ]
        },
        {
          "output_type": "stream",
          "name": "stdout",
          "text": [
            "Epoch 13 | Avg Train Loss: 0.037701950010968675, Avg Validation Loss: 0.030890887671309274 \n"
          ]
        },
        {
          "output_type": "stream",
          "name": "stderr",
          "text": [
            "100%|██████████| 335/335 [05:15<00:00,  1.06it/s]\n",
            "100%|██████████| 41/41 [00:49<00:00,  1.20s/it]\n"
          ]
        },
        {
          "output_type": "stream",
          "name": "stdout",
          "text": [
            "Epoch 14 | Avg Train Loss: 0.039137015572345966, Avg Validation Loss: 0.030037568882107735 \n"
          ]
        },
        {
          "output_type": "stream",
          "name": "stderr",
          "text": [
            "100%|██████████| 335/335 [05:15<00:00,  1.06it/s]\n",
            "100%|██████████| 41/41 [00:49<00:00,  1.20s/it]\n"
          ]
        },
        {
          "output_type": "stream",
          "name": "stdout",
          "text": [
            "Epoch 15 | Avg Train Loss: 0.03742229982988158, Avg Validation Loss: 0.03330678942545158 \n"
          ]
        },
        {
          "output_type": "stream",
          "name": "stderr",
          "text": [
            "100%|██████████| 335/335 [05:18<00:00,  1.05it/s]\n",
            "100%|██████████| 41/41 [00:47<00:00,  1.17s/it]\n"
          ]
        },
        {
          "output_type": "stream",
          "name": "stdout",
          "text": [
            "Epoch 16 | Avg Train Loss: 0.03861191366701874, Avg Validation Loss: 0.03262382248280252 \n"
          ]
        },
        {
          "output_type": "stream",
          "name": "stderr",
          "text": [
            "100%|██████████| 335/335 [05:15<00:00,  1.06it/s]\n",
            "100%|██████████| 41/41 [00:48<00:00,  1.17s/it]\n"
          ]
        },
        {
          "output_type": "stream",
          "name": "stdout",
          "text": [
            "Epoch 17 | Avg Train Loss: 0.038429367492225634, Avg Validation Loss: 0.028587504698917632 \n"
          ]
        },
        {
          "output_type": "stream",
          "name": "stderr",
          "text": [
            "100%|██████████| 335/335 [05:14<00:00,  1.06it/s]\n",
            "100%|██████████| 41/41 [00:48<00:00,  1.17s/it]\n"
          ]
        },
        {
          "output_type": "stream",
          "name": "stdout",
          "text": [
            "Epoch 18 | Avg Train Loss: 0.03798090070486069, Avg Validation Loss: 0.029932724743536334 \n"
          ]
        },
        {
          "output_type": "stream",
          "name": "stderr",
          "text": [
            "100%|██████████| 335/335 [05:15<00:00,  1.06it/s]\n",
            "100%|██████████| 41/41 [00:48<00:00,  1.18s/it]\n"
          ]
        },
        {
          "output_type": "stream",
          "name": "stdout",
          "text": [
            "Epoch 19 | Avg Train Loss: 0.0374164075048557, Avg Validation Loss: 0.02838430855786655 \n"
          ]
        },
        {
          "output_type": "stream",
          "name": "stderr",
          "text": [
            "100%|██████████| 335/335 [05:16<00:00,  1.06it/s]\n",
            "100%|██████████| 41/41 [00:49<00:00,  1.20s/it]\n"
          ]
        },
        {
          "output_type": "stream",
          "name": "stdout",
          "text": [
            "Epoch 20 | Avg Train Loss: 0.03850631925708323, Avg Validation Loss: 0.026617211721292357 \n"
          ]
        },
        {
          "output_type": "stream",
          "name": "stderr",
          "text": [
            "100%|██████████| 335/335 [05:16<00:00,  1.06it/s]\n",
            "100%|██████████| 41/41 [00:48<00:00,  1.18s/it]\n"
          ]
        },
        {
          "output_type": "stream",
          "name": "stdout",
          "text": [
            "Epoch 21 | Avg Train Loss: 0.03598469287824275, Avg Validation Loss: 0.029623947833187697 \n"
          ]
        },
        {
          "output_type": "stream",
          "name": "stderr",
          "text": [
            "100%|██████████| 335/335 [05:18<00:00,  1.05it/s]\n",
            "100%|██████████| 41/41 [00:49<00:00,  1.21s/it]\n"
          ]
        },
        {
          "output_type": "stream",
          "name": "stdout",
          "text": [
            "Epoch 22 | Avg Train Loss: 0.038019442574968976, Avg Validation Loss: 0.02733700658853461 \n"
          ]
        },
        {
          "output_type": "stream",
          "name": "stderr",
          "text": [
            "100%|██████████| 335/335 [05:22<00:00,  1.04it/s]\n",
            "100%|██████████| 41/41 [00:51<00:00,  1.25s/it]\n"
          ]
        },
        {
          "output_type": "stream",
          "name": "stdout",
          "text": [
            "Epoch 23 | Avg Train Loss: 0.035709502928848585, Avg Validation Loss: 0.03204537748654441 \n"
          ]
        },
        {
          "output_type": "stream",
          "name": "stderr",
          "text": [
            "100%|██████████| 335/335 [05:23<00:00,  1.04it/s]\n",
            "100%|██████████| 41/41 [00:50<00:00,  1.23s/it]\n"
          ]
        },
        {
          "output_type": "stream",
          "name": "stdout",
          "text": [
            "Epoch 24 | Avg Train Loss: 0.03419109816426662, Avg Validation Loss: 0.030210110767767195 \n"
          ]
        },
        {
          "output_type": "stream",
          "name": "stderr",
          "text": [
            "100%|██████████| 335/335 [05:23<00:00,  1.04it/s]\n",
            "100%|██████████| 41/41 [00:49<00:00,  1.21s/it]\n"
          ]
        },
        {
          "output_type": "stream",
          "name": "stdout",
          "text": [
            "Epoch 25 | Avg Train Loss: 0.035906100514998186, Avg Validation Loss: 0.02821152305185068 \n"
          ]
        },
        {
          "output_type": "stream",
          "name": "stderr",
          "text": [
            "100%|██████████| 335/335 [05:25<00:00,  1.03it/s]\n",
            "100%|██████████| 41/41 [00:50<00:00,  1.23s/it]\n"
          ]
        },
        {
          "output_type": "stream",
          "name": "stdout",
          "text": [
            "Epoch 26 | Avg Train Loss: 0.03452842416269566, Avg Validation Loss: 0.025372450455750633 \n"
          ]
        },
        {
          "output_type": "stream",
          "name": "stderr",
          "text": [
            "100%|██████████| 335/335 [05:27<00:00,  1.02it/s]\n",
            "100%|██████████| 41/41 [00:50<00:00,  1.23s/it]\n"
          ]
        },
        {
          "output_type": "stream",
          "name": "stdout",
          "text": [
            "Epoch 27 | Avg Train Loss: 0.034648642605587615, Avg Validation Loss: 0.026895942416314673 \n"
          ]
        },
        {
          "output_type": "stream",
          "name": "stderr",
          "text": [
            "100%|██████████| 335/335 [05:29<00:00,  1.02it/s]\n",
            "100%|██████████| 41/41 [00:51<00:00,  1.25s/it]\n"
          ]
        },
        {
          "output_type": "stream",
          "name": "stdout",
          "text": [
            "Epoch 28 | Avg Train Loss: 0.034910901046510956, Avg Validation Loss: 0.030043065161784975 \n"
          ]
        },
        {
          "output_type": "stream",
          "name": "stderr",
          "text": [
            "100%|██████████| 335/335 [05:29<00:00,  1.02it/s]\n",
            "100%|██████████| 41/41 [00:50<00:00,  1.23s/it]\n"
          ]
        },
        {
          "output_type": "stream",
          "name": "stdout",
          "text": [
            "Epoch 29 | Avg Train Loss: 0.03646737278174998, Avg Validation Loss: 0.026252105695808808 \n"
          ]
        },
        {
          "output_type": "stream",
          "name": "stderr",
          "text": [
            "100%|██████████| 335/335 [05:27<00:00,  1.02it/s]\n",
            "100%|██████████| 41/41 [00:50<00:00,  1.24s/it]\n"
          ]
        },
        {
          "output_type": "stream",
          "name": "stdout",
          "text": [
            "Epoch 30 | Avg Train Loss: 0.034653105653488815, Avg Validation Loss: 0.02700363181349708 \n"
          ]
        },
        {
          "output_type": "stream",
          "name": "stderr",
          "text": [
            "100%|██████████| 335/335 [05:31<00:00,  1.01it/s]\n",
            "100%|██████████| 41/41 [00:51<00:00,  1.25s/it]\n"
          ]
        },
        {
          "output_type": "stream",
          "name": "stdout",
          "text": [
            "Epoch 31 | Avg Train Loss: 0.03686493746658315, Avg Validation Loss: 0.025757891012401116 \n"
          ]
        },
        {
          "output_type": "stream",
          "name": "stderr",
          "text": [
            "100%|██████████| 335/335 [05:32<00:00,  1.01it/s]\n",
            "100%|██████████| 41/41 [00:50<00:00,  1.23s/it]\n"
          ]
        },
        {
          "output_type": "stream",
          "name": "stdout",
          "text": [
            "Epoch 32 | Avg Train Loss: 0.03541668667944509, Avg Validation Loss: 0.030915218473571104 \n"
          ]
        },
        {
          "output_type": "stream",
          "name": "stderr",
          "text": [
            "100%|██████████| 335/335 [05:34<00:00,  1.00it/s]\n",
            "100%|██████████| 41/41 [00:51<00:00,  1.26s/it]\n"
          ]
        },
        {
          "output_type": "stream",
          "name": "stdout",
          "text": [
            "Epoch 33 | Avg Train Loss: 0.03455358898239349, Avg Validation Loss: 0.029072138821569886 \n"
          ]
        },
        {
          "output_type": "stream",
          "name": "stderr",
          "text": [
            "100%|██████████| 335/335 [05:31<00:00,  1.01it/s]\n",
            "100%|██████████| 41/41 [00:51<00:00,  1.26s/it]\n"
          ]
        },
        {
          "output_type": "stream",
          "name": "stdout",
          "text": [
            "Epoch 34 | Avg Train Loss: 0.03394652835802356, Avg Validation Loss: 0.02656799257255909 \n"
          ]
        },
        {
          "output_type": "stream",
          "name": "stderr",
          "text": [
            "100%|██████████| 335/335 [05:28<00:00,  1.02it/s]\n",
            "100%|██████████| 41/41 [00:50<00:00,  1.24s/it]\n"
          ]
        },
        {
          "output_type": "stream",
          "name": "stdout",
          "text": [
            "Epoch 35 | Avg Train Loss: 0.0352782151981521, Avg Validation Loss: 0.028904249778062833 \n"
          ]
        },
        {
          "output_type": "stream",
          "name": "stderr",
          "text": [
            "100%|██████████| 335/335 [05:27<00:00,  1.02it/s]\n",
            "100%|██████████| 41/41 [00:51<00:00,  1.26s/it]\n"
          ]
        },
        {
          "output_type": "stream",
          "name": "stdout",
          "text": [
            "Epoch 36 | Avg Train Loss: 0.0339426712035688, Avg Validation Loss: 0.029770556542022927 \n"
          ]
        },
        {
          "output_type": "stream",
          "name": "stderr",
          "text": [
            "100%|██████████| 335/335 [05:32<00:00,  1.01it/s]\n",
            "100%|██████████| 41/41 [00:52<00:00,  1.27s/it]\n"
          ]
        },
        {
          "output_type": "stream",
          "name": "stdout",
          "text": [
            "Epoch 37 | Avg Train Loss: 0.03523707513266535, Avg Validation Loss: 0.02961476744584194 \n"
          ]
        },
        {
          "output_type": "stream",
          "name": "stderr",
          "text": [
            "100%|██████████| 335/335 [05:29<00:00,  1.02it/s]\n",
            "100%|██████████| 41/41 [00:51<00:00,  1.24s/it]\n"
          ]
        },
        {
          "output_type": "stream",
          "name": "stdout",
          "text": [
            "Epoch 38 | Avg Train Loss: 0.0351060174044166, Avg Validation Loss: 0.029550712601077264 \n"
          ]
        },
        {
          "output_type": "stream",
          "name": "stderr",
          "text": [
            "100%|██████████| 335/335 [05:30<00:00,  1.01it/s]\n",
            "100%|██████████| 41/41 [00:51<00:00,  1.25s/it]\n"
          ]
        },
        {
          "output_type": "stream",
          "name": "stdout",
          "text": [
            "Epoch 39 | Avg Train Loss: 0.03575251927849517, Avg Validation Loss: 0.027498889714479446 \n"
          ]
        },
        {
          "output_type": "stream",
          "name": "stderr",
          "text": [
            "100%|██████████| 335/335 [05:29<00:00,  1.02it/s]\n",
            "100%|██████████| 41/41 [00:50<00:00,  1.23s/it]\n"
          ]
        },
        {
          "output_type": "stream",
          "name": "stdout",
          "text": [
            "Epoch 40 | Avg Train Loss: 0.0349638538991115, Avg Validation Loss: 0.028550277872965102 \n"
          ]
        },
        {
          "output_type": "stream",
          "name": "stderr",
          "text": [
            "100%|██████████| 335/335 [05:30<00:00,  1.01it/s]\n",
            "100%|██████████| 41/41 [00:51<00:00,  1.25s/it]\n"
          ]
        },
        {
          "output_type": "stream",
          "name": "stdout",
          "text": [
            "Epoch 41 | Avg Train Loss: 0.03544815916901649, Avg Validation Loss: 0.027953993097492833 \n"
          ]
        },
        {
          "output_type": "stream",
          "name": "stderr",
          "text": [
            "100%|██████████| 335/335 [05:30<00:00,  1.01it/s]\n",
            "100%|██████████| 41/41 [00:50<00:00,  1.23s/it]\n"
          ]
        },
        {
          "output_type": "stream",
          "name": "stdout",
          "text": [
            "Epoch 42 | Avg Train Loss: 0.035663333365610284, Avg Validation Loss: 0.02791536549424253 \n"
          ]
        },
        {
          "output_type": "stream",
          "name": "stderr",
          "text": [
            "100%|██████████| 335/335 [05:36<00:00,  1.00s/it]\n",
            "100%|██████████| 41/41 [00:51<00:00,  1.27s/it]\n"
          ]
        },
        {
          "output_type": "stream",
          "name": "stdout",
          "text": [
            "Epoch 43 | Avg Train Loss: 0.03426677187098496, Avg Validation Loss: 0.025466928110889544 \n"
          ]
        },
        {
          "output_type": "stream",
          "name": "stderr",
          "text": [
            "100%|██████████| 335/335 [05:36<00:00,  1.00s/it]\n",
            "100%|██████████| 41/41 [00:50<00:00,  1.23s/it]\n"
          ]
        },
        {
          "output_type": "stream",
          "name": "stdout",
          "text": [
            "Epoch 44 | Avg Train Loss: 0.03359854644748257, Avg Validation Loss: 0.023940776815501656 \n"
          ]
        },
        {
          "output_type": "stream",
          "name": "stderr",
          "text": [
            "100%|██████████| 335/335 [05:36<00:00,  1.00s/it]\n",
            "100%|██████████| 41/41 [00:51<00:00,  1.25s/it]\n"
          ]
        },
        {
          "output_type": "stream",
          "name": "stdout",
          "text": [
            "Epoch 45 | Avg Train Loss: 0.03288197447615328, Avg Validation Loss: 0.030179837184799153 \n"
          ]
        },
        {
          "output_type": "stream",
          "name": "stderr",
          "text": [
            "100%|██████████| 335/335 [05:37<00:00,  1.01s/it]\n",
            "100%|██████████| 41/41 [00:52<00:00,  1.28s/it]\n"
          ]
        },
        {
          "output_type": "stream",
          "name": "stdout",
          "text": [
            "Epoch 46 | Avg Train Loss: 0.03263857477525277, Avg Validation Loss: 0.024653136889200386 \n"
          ]
        },
        {
          "output_type": "stream",
          "name": "stderr",
          "text": [
            "100%|██████████| 335/335 [05:39<00:00,  1.01s/it]\n",
            "100%|██████████| 41/41 [00:52<00:00,  1.27s/it]\n"
          ]
        },
        {
          "output_type": "stream",
          "name": "stdout",
          "text": [
            "Epoch 47 | Avg Train Loss: 0.03351885071997322, Avg Validation Loss: 0.02450357150377297 \n"
          ]
        },
        {
          "output_type": "stream",
          "name": "stderr",
          "text": [
            "100%|██████████| 335/335 [05:40<00:00,  1.02s/it]\n",
            "100%|██████████| 41/41 [00:51<00:00,  1.27s/it]\n"
          ]
        },
        {
          "output_type": "stream",
          "name": "stdout",
          "text": [
            "Epoch 48 | Avg Train Loss: 0.03414529319296577, Avg Validation Loss: 0.0268660751284986 \n"
          ]
        },
        {
          "output_type": "stream",
          "name": "stderr",
          "text": [
            "100%|██████████| 335/335 [05:41<00:00,  1.02s/it]\n",
            "100%|██████████| 41/41 [00:53<00:00,  1.29s/it]\n"
          ]
        },
        {
          "output_type": "stream",
          "name": "stdout",
          "text": [
            "Epoch 49 | Avg Train Loss: 0.03362163441227888, Avg Validation Loss: 0.030707979279502137 \n"
          ]
        },
        {
          "output_type": "stream",
          "name": "stderr",
          "text": [
            "100%|██████████| 335/335 [05:42<00:00,  1.02s/it]\n",
            "100%|██████████| 41/41 [00:52<00:00,  1.28s/it]"
          ]
        },
        {
          "output_type": "stream",
          "name": "stdout",
          "text": [
            "Epoch 50 | Avg Train Loss: 0.03447559075013026, Avg Validation Loss: 0.029715273642867076 \n"
          ]
        },
        {
          "output_type": "stream",
          "name": "stderr",
          "text": [
            "\n"
          ]
        }
      ],
      "source": [
        "optimizer = Adam(model.parameters(), lr=config[\"lr\"])\n",
        "\n",
        "train_loss_list = []\n",
        "validation_loss_list = []\n",
        "avg_4_crps_mean = []\n",
        "avg_16_crps_mean = []\n",
        "max_4_crps_mean = []\n",
        "max_16_crps_mean = []\n",
        "\n",
        "avg_4_crps_std = []\n",
        "avg_16_crps_std = []\n",
        "max_4_crps_std = []\n",
        "max_16_crps_std = []\n",
        "\n",
        "\n",
        "crps_idx_list = [57,\n",
        " 460,\n",
        " 63,\n",
        " 203,\n",
        " 357,\n",
        " 164,\n",
        " 327,\n",
        " 470,\n",
        " 260,\n",
        " 161,\n",
        " 140,\n",
        " 404,\n",
        " 379,\n",
        " 451,\n",
        " 289,\n",
        " 79,\n",
        " 141,\n",
        " 76,\n",
        " 42,\n",
        " 47]\n",
        "\n",
        "\n",
        "\n",
        "best_val_score = 1\n",
        "for epoch in range(config[\"epochs\"]):\n",
        "    avg_epoch_train_loss = 0 \n",
        "    \n",
        "    for step, batch in enumerate(tqdm(dataloader)):\n",
        "        \n",
        "        batch_lwe = batch[0]\n",
        "        batch_lwe = batch_lwe.float()\n",
        "\n",
        "        optimizer.zero_grad()\n",
        "\n",
        "        t = torch.randint(0, config[\"T\"], (config[\"batch_size\"],), device=device).long()\n",
        "\n",
        "        conditional_imgs = batch[1]\n",
        "\n",
        "        imgs_to_model_training = batch_lwe\n",
        "        # imgs_to_model_training = imgs_to_model_training[:, None, :, :]\n",
        "        # print(f\"imgs_to_model_training.shape = {imgs_to_model_training.shape}\")\n",
        "        # print(f\"conditional_imgs.shape = {conditional_imgs.shape}\")\n",
        "        conditional_imgs = conditional_imgs.float()\n",
        "        conditional_imgs = conditional_imgs.to(device)\n",
        "        loss = loss_fn(\n",
        "            model=model,\n",
        "            x=imgs_to_model_training,\n",
        "            t=t,\n",
        "            device=device,\n",
        "            cond_emb_model = cond_emb_model,\n",
        "            sqrt_one_minus_alphas_cumprod=sqrt_one_minus_alphas_cumprod,\n",
        "            sqrt_alphas_cumprod=sqrt_alphas_cumprod,\n",
        "            condition=conditional_imgs,\n",
        "        )\n",
        "        loss.backward()\n",
        "        optimizer.step()\n",
        "        avg_epoch_train_loss += loss.item()\n",
        "        \n",
        "    avg_epoch_train_loss = avg_epoch_train_loss/(step+1)\n",
        "    \n",
        "    #get validation loss for same epoch\n",
        "    avg_epoch_val_loss = 0 \n",
        "    model.eval()\n",
        "    with torch.no_grad():\n",
        "        for vstep, vbatch in enumerate(tqdm(validation_dataloader)):\n",
        "            batch_lwe = vbatch[0]\n",
        "            batch_lwe = batch_lwe.float()\n",
        "\n",
        "            t = torch.randint(0, config[\"T\"], (config[\"batch_size\"],), device=device).long()\n",
        "\n",
        "            conditional_imgs = vbatch[1]\n",
        "            imgs_to_model_training = batch_lwe\n",
        "            # print(f\"imgs_to_model_training.shape = {imgs_to_model_training.shape}\")\n",
        "            # print(f\"conditional_imgs.shape = {conditional_imgs.shape}\")\n",
        "            conditional_imgs = conditional_imgs.float()\n",
        "\n",
        "            conditional_imgs = conditional_imgs.to(device)\n",
        "            loss = loss_fn(\n",
        "                model=model,\n",
        "                x=imgs_to_model_training,\n",
        "                t=t,\n",
        "                device=device,\n",
        "                cond_emb_model = cond_emb_model,\n",
        "                sqrt_one_minus_alphas_cumprod=sqrt_one_minus_alphas_cumprod,\n",
        "                sqrt_alphas_cumprod=sqrt_alphas_cumprod,\n",
        "                condition=conditional_imgs,\n",
        "            )\n",
        "            avg_epoch_val_loss += loss.item()\n",
        "        \n",
        "        avg_epoch_val_loss = avg_epoch_val_loss/(vstep+1)\n",
        "        if avg_epoch_val_loss < best_val_score:\n",
        "            best_val_score = avg_epoch_val_loss\n",
        "            today = date.today()\n",
        "            torch.save(model.state_dict(), f\"{plot_folder}/{today}_epoch_{epoch}\")\n",
        "        \n",
        "        print(f\"Epoch {epoch} | Avg Train Loss: {avg_epoch_train_loss}, Avg Validation Loss: {avg_epoch_val_loss} \")\n",
        "        train_loss_list.append(avg_epoch_train_loss)\n",
        "        validation_loss_list.append(avg_epoch_val_loss)\n",
        "\n",
        "        \n",
        "    # if convective_crps:\n",
        "        # get_convective_test_seq()\n",
        "\n",
        "        # if epoch % 3 == 0:# and epoch > 0:\n",
        "        #     #get CRPS \n",
        "        #     seq_list_crps = get_CRPS_sequence(dataset=dataset_radar_sequence_val_CRPS, idx_list= crps_idx_list)\n",
        "\n",
        "        #     avg4_mean, avg16_mean, max4_mean,max16_mean, avg4_std, avg16_std, max4_std, max16_std = get_CRPS(\n",
        "        #             test_list = seq_list_crps,\n",
        "        #             rgb_grayscale = config[\"rgb_grayscale\"],\n",
        "        #             img_out_size = config[\"img_out_size\"],\n",
        "        #             sequence_length = config[\"sequence_length\"],\n",
        "        #             device = device,\n",
        "        #             sqrt_one_minus_alphas_cumprod = sqrt_one_minus_alphas_cumprod,\n",
        "        #             sqrt_recip_alphas = sqrt_recip_alphas,\n",
        "        #             posterior_variance = posterior_variance,\n",
        "        #             model = model,\n",
        "        #             T = config[\"T\"],\n",
        "        #             numb_cond = config[\"num_cond_frames\"],\n",
        "        #             betas = betas,\n",
        "        #             max_prec_val = config[\"max_prec_val\"],\n",
        "        #             cond_emb_model = cond_emb_model,\n",
        "        #     )\n",
        "        #     avg_4_crps_mean.append(avg4_mean)\n",
        "        #     avg_16_crps_mean.append(avg16_mean)\n",
        "        #     max_4_crps_mean.append(max4_mean)\n",
        "        #     max_16_crps_mean.append(max16_mean)\n",
        "            \n",
        "        #     avg_4_crps_std.append(avg4_std)\n",
        "        #     avg_16_crps_std.append(avg16_std)\n",
        "        #     max_4_crps_std.append(max4_std)\n",
        "        #     max_16_crps_std.append(max16_std)\n",
        "        \n",
        "        #     fig, axs = plt.subplots(1, 1, figsize=(30, 5))\n",
        "            \n",
        "        #     epoch_list = np.arange(0, len(validation_loss_list))\n",
        "        #     ax1 = plt.subplot(111)\n",
        "        #     ax1.plot(epoch_list, validation_loss_list, label='Validation loss')\n",
        "        #     ax1.plot(epoch_list, train_loss_list, label='Train loss')\n",
        "        #     ax1.set_title(f\"MSE\")\n",
        "        #     ax1.legend()\n",
        "            \n",
        "        #     ax2 = plt.subplot(132)\n",
        "        #     crps_epochs = np.arange(0, len(avg_4_crps_mean))\n",
        "        #     labels = crps_epochs*3\n",
        "        #     labels = labels.astype('str')\n",
        "\n",
        "        #     ax2.errorbar(crps_epochs, avg_4_crps_mean,avg_4_crps_std, marker='^', label='4-km aggregations')\n",
        "        #     ax2.errorbar(crps_epochs, avg_16_crps_mean,avg_16_crps_std, marker='*', label='16-km aggregations')\n",
        "        #     ax2.set_yscale('log')\n",
        "        #     ax2.set_title(f\"Pooled CRPS using the average rain rate\")\n",
        "        #     ax2.legend()\n",
        "\n",
        "        #     ax3 = plt.subplot(133)\n",
        "        #     ax3.errorbar(crps_epochs, max_4_crps_mean,max_4_crps_std, marker='^', label='4-km aggregations')\n",
        "        #     ax3.errorbar(crps_epochs, max_16_crps_mean,max_16_crps_std, marker='^', label='16-km aggregations')\n",
        "        #     ax3.set_title(f\"Pooled CRPS using the maximum rain rate\")\n",
        "        #     ax3.set_yscale('log')\n",
        "        #     ax3.legend()\n",
        "\n",
        "        #     folder_path = config[\"plot_folder\"]\n",
        "        #     fig.savefig(f\"{folder_path}/MSE_epoch_{epoch}.png\")\n",
        "\n",
        "        #     plt.show()\n",
        "\n",
        "\n",
        "        # if epoch % 5 == 0:\n",
        "\n",
        "        #     if config[\"validate_on_convective\"]:\n",
        "        #         pass\n",
        "    \n",
        "        #     seq_list_plot = get_CRPS_sequence(dataset=dataset_radar_sequence_val_CRPS, idx_list= crps_idx_list)\n",
        "\n",
        "        #     sample_plot_image(\n",
        "        #         test_list=seq_list_plot,\n",
        "        #         rgb_grayscale=config[\"rgb_grayscale\"],\n",
        "        #         img_out_size=config[\"img_out_size\"],\n",
        "        #         sequence_length=config[\"sequence_length\"],\n",
        "        #         device=device,\n",
        "        #         sqrt_one_minus_alphas_cumprod=sqrt_one_minus_alphas_cumprod,\n",
        "        #         sqrt_recip_alphas=sqrt_recip_alphas,\n",
        "        #         posterior_variance=posterior_variance,\n",
        "        #         model=model,\n",
        "        #         T=config[\"T\"],\n",
        "        #         pred_ahead= config[\"prediction_time_step_ahead\"],\n",
        "        #         numb_cond = config[\"num_cond_frames\"],\n",
        "        #         betas = betas,\n",
        "        #         max_prec_val = config[\"max_prec_val\"],\n",
        "        #         epoch = epoch,\n",
        "        #         out_folder = config[\"plot_folder\"]\n",
        "        #         )\n",
        "    #set model back to training mode: \n",
        "\n",
        "    model.train()\n",
        "\n"
      ]
    },
    {
      "cell_type": "code",
      "execution_count": 11,
      "metadata": {
        "id": "0T-dwCN0oMgz"
      },
      "outputs": [],
      "source": [
        "val_loss_arr = np.asarray(validation_loss_list)\n",
        "train_loss_arr = np.asarray(train_loss_list)\n",
        "\n",
        "np.savetxt(f\"{plot_folder}/val_loss_arr.csv\", val_loss_arr, delimiter=\",\")\n",
        "np.savetxt(f\"{plot_folder}/train_loss_arr.csv\", train_loss_arr, delimiter=\",\")\n"
      ]
    },
    {
      "cell_type": "code",
      "execution_count": 11,
      "metadata": {
        "id": "MVd0Qu_soRPI"
      },
      "outputs": [],
      "source": []
    }
  ],
  "metadata": {
    "accelerator": "GPU",
    "colab": {
      "provenance": []
    },
    "gpuClass": "standard",
    "kernelspec": {
      "display_name": "Python 3.9.7 ('ML_env')",
      "language": "python",
      "name": "python3"
    },
    "language_info": {
      "codemirror_mode": {
        "name": "ipython",
        "version": 3
      },
      "file_extension": ".py",
      "mimetype": "text/x-python",
      "name": "python",
      "nbconvert_exporter": "python",
      "pygments_lexer": "ipython3",
      "version": "3.9.7"
    },
    "orig_nbformat": 4,
    "vscode": {
      "interpreter": {
        "hash": "54d325ac27653bbd16399bc9890710378eb69529f792fa6d179297359bb410f6"
      }
    }
  },
  "nbformat": 4,
  "nbformat_minor": 0
}