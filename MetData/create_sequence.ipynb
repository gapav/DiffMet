{
 "cells": [
  {
   "cell_type": "code",
   "execution_count": 1,
   "metadata": {},
   "outputs": [],
   "source": [
    "import numpy as np \n",
    "import matplotlib.pyplot as plt\n",
    "import xarray as xr\n",
    "\n",
    "import os\n",
    "from tqdm import tqdm\n",
    "\n",
    "\n",
    "import data_funcs.helper_module as hm\n",
    "from data_funcs.create_seq import create_sequences\n"
   ]
  },
  {
   "cell_type": "code",
   "execution_count": null,
   "metadata": {},
   "outputs": [],
   "source": []
  },
  {
   "cell_type": "code",
   "execution_count": 2,
   "metadata": {},
   "outputs": [
    {
     "name": "stderr",
     "output_type": "stream",
     "text": [
      "100%|██████████| 182/182 [01:41<00:00,  1.80it/s]\n"
     ]
    },
    {
     "name": "stdout",
     "output_type": "stream",
     "text": [
      "sequence_saved_count=0, max_prec_val_global=16.900222778320312\n"
     ]
    },
    {
     "name": "stderr",
     "output_type": "stream",
     "text": [
      "100%|██████████| 14/14 [00:07<00:00,  1.89it/s]\n"
     ]
    },
    {
     "name": "stdout",
     "output_type": "stream",
     "text": [
      "sequence_saved_count=0, max_prec_val_global=7.2530717849731445\n"
     ]
    },
    {
     "name": "stderr",
     "output_type": "stream",
     "text": [
      "100%|██████████| 14/14 [00:07<00:00,  1.84it/s]"
     ]
    },
    {
     "name": "stdout",
     "output_type": "stream",
     "text": [
      "sequence_saved_count=0, max_prec_val_global=9.695568084716797\n"
     ]
    },
    {
     "name": "stderr",
     "output_type": "stream",
     "text": [
      "\n"
     ]
    }
   ],
   "source": [
    "# create_sequences(out_seq_len=10, in_folder=\"data_2021_cuberoot_transformed/test\", out_folder=\"data_2021_cuberoot_transformed/test_sequenced\", max_numb_of_seq_wanted=30000, low_sum_tresh=20000, high_sum_tresh=200000, prec_tresh_val_not_normalized=150)\n",
    "# create_sequences(out_seq_len=10, in_folder=\"data_2021_cuberoot_transformed/train\", out_folder=\"data_2021_cuberoot_transformed/train_sequenced\", max_numb_of_seq_wanted=30000, low_sum_tresh=20000, high_sum_tresh=200000, prec_tresh_val_not_normalized=150)\n",
    "create_sequences(out_seq_len=8, in_folder=\"/Users/gardpavels/uio/MASTER_code/data/data_2021/data_2021_final/data_pre_time_var/train\", out_folder=\"/Users/gardpavels/uio/MASTER_code/data/data_2021/data_2021_final/sequence_data/train\", max_numb_of_seq_wanted=8000, low_sum_tresh=50000, high_sum_tresh=1000000, prec_tresh_val_not_normalized=40)\n",
    "create_sequences(out_seq_len=8, in_folder=\"/Users/gardpavels/uio/MASTER_code/data/data_2021/data_2021_final/data_pre_time_var/test\", out_folder=\"/Users/gardpavels/uio/MASTER_code/data/data_2021/data_2021_final/sequence_data/test\", max_numb_of_seq_wanted=2000, low_sum_tresh=50000, high_sum_tresh=1000000, prec_tresh_val_not_normalized=40)\n",
    "create_sequences(out_seq_len=8, in_folder=\"/Users/gardpavels/uio/MASTER_code/data/data_2021/data_2021_final/data_pre_time_var/validation\", out_folder=\"/Users/gardpavels/uio/MASTER_code/data/data_2021/data_2021_final/sequence_data/validation\", max_numb_of_seq_wanted=2000, low_sum_tresh=50000, high_sum_tresh=1000000, prec_tresh_val_not_normalized=40)\n"
   ]
  },
  {
   "cell_type": "code",
   "execution_count": 3,
   "metadata": {},
   "outputs": [
    {
     "ename": "FileNotFoundError",
     "evalue": "[Errno 2] No such file or directory: '/Users/gardpavels/uio/MASTER_code/data/data_2021_cuberoot_transformed/train_sequenced/transformed_20210809_0.npy'",
     "output_type": "error",
     "traceback": [
      "\u001b[0;31m---------------------------------------------------------------------------\u001b[0m",
      "\u001b[0;31mFileNotFoundError\u001b[0m                         Traceback (most recent call last)",
      "\u001b[0;32m/var/folders/sk/0ps2wz_n1n9_lj7zjh2qpp7h0000gn/T/ipykernel_32631/3988993400.py\u001b[0m in \u001b[0;36m<module>\u001b[0;34m\u001b[0m\n\u001b[0;32m----> 1\u001b[0;31m \u001b[0mtest_seq\u001b[0m \u001b[0;34m=\u001b[0m \u001b[0mnp\u001b[0m\u001b[0;34m.\u001b[0m\u001b[0mload\u001b[0m\u001b[0;34m(\u001b[0m\u001b[0;34m\"/Users/gardpavels/uio/MASTER_code/data/data_2021_cuberoot_transformed/train_sequenced/transformed_20210809_0.npy\"\u001b[0m\u001b[0;34m)\u001b[0m\u001b[0;34m\u001b[0m\u001b[0;34m\u001b[0m\u001b[0m\n\u001b[0m\u001b[1;32m      2\u001b[0m \u001b[0mnumb_of_frames\u001b[0m \u001b[0;34m=\u001b[0m \u001b[0mtest_seq\u001b[0m\u001b[0;34m.\u001b[0m\u001b[0mshape\u001b[0m\u001b[0;34m[\u001b[0m\u001b[0;36m0\u001b[0m\u001b[0;34m]\u001b[0m\u001b[0;34m\u001b[0m\u001b[0;34m\u001b[0m\u001b[0m\n",
      "\u001b[0;32m/opt/anaconda3/envs/ML_env/lib/python3.9/site-packages/numpy/lib/npyio.py\u001b[0m in \u001b[0;36mload\u001b[0;34m(file, mmap_mode, allow_pickle, fix_imports, encoding)\u001b[0m\n\u001b[1;32m    415\u001b[0m             \u001b[0mown_fid\u001b[0m \u001b[0;34m=\u001b[0m \u001b[0;32mFalse\u001b[0m\u001b[0;34m\u001b[0m\u001b[0;34m\u001b[0m\u001b[0m\n\u001b[1;32m    416\u001b[0m         \u001b[0;32melse\u001b[0m\u001b[0;34m:\u001b[0m\u001b[0;34m\u001b[0m\u001b[0;34m\u001b[0m\u001b[0m\n\u001b[0;32m--> 417\u001b[0;31m             \u001b[0mfid\u001b[0m \u001b[0;34m=\u001b[0m \u001b[0mstack\u001b[0m\u001b[0;34m.\u001b[0m\u001b[0menter_context\u001b[0m\u001b[0;34m(\u001b[0m\u001b[0mopen\u001b[0m\u001b[0;34m(\u001b[0m\u001b[0mos_fspath\u001b[0m\u001b[0;34m(\u001b[0m\u001b[0mfile\u001b[0m\u001b[0;34m)\u001b[0m\u001b[0;34m,\u001b[0m \u001b[0;34m\"rb\"\u001b[0m\u001b[0;34m)\u001b[0m\u001b[0;34m)\u001b[0m\u001b[0;34m\u001b[0m\u001b[0;34m\u001b[0m\u001b[0m\n\u001b[0m\u001b[1;32m    418\u001b[0m             \u001b[0mown_fid\u001b[0m \u001b[0;34m=\u001b[0m \u001b[0;32mTrue\u001b[0m\u001b[0;34m\u001b[0m\u001b[0;34m\u001b[0m\u001b[0m\n\u001b[1;32m    419\u001b[0m \u001b[0;34m\u001b[0m\u001b[0m\n",
      "\u001b[0;31mFileNotFoundError\u001b[0m: [Errno 2] No such file or directory: '/Users/gardpavels/uio/MASTER_code/data/data_2021_cuberoot_transformed/train_sequenced/transformed_20210809_0.npy'"
     ]
    }
   ],
   "source": [
    "test_seq = np.load(\"/Users/gardpavels/uio/MASTER_code/data/data_2021_cuberoot_transformed/train_sequenced/transformed_20210809_0.npy\")\n",
    "numb_of_frames = test_seq.shape[0]"
   ]
  },
  {
   "cell_type": "code",
   "execution_count": null,
   "metadata": {},
   "outputs": [],
   "source": [
    "\n",
    "fig, axs = plt.subplots(1, 9, figsize=(30, 5))\n",
    "\n",
    "\n",
    "ax1 = plt.subplot(191)\n",
    "ax1.imshow(test_seq[0,:,:],cmap=\"jet\")\n",
    "\n",
    "ax1 = plt.subplot(192)\n",
    "ax1.imshow(test_seq[1,:,:],cmap=\"jet\")\n",
    "\n",
    "ax1 = plt.subplot(193)\n",
    "ax1.imshow(test_seq[2,:,:],cmap=\"jet\")\n",
    "\n",
    "ax1 = plt.subplot(194)\n",
    "ax1.imshow(test_seq[3,:,:],cmap=\"jet\")\n",
    "\n",
    "ax1 = plt.subplot(195)\n",
    "ax1.imshow(test_seq[4,:,:],cmap=\"jet\")\n",
    "\n",
    "ax1 = plt.subplot(196)\n",
    "ax1.imshow(test_seq[5,:,:],cmap=\"jet\")\n",
    "\n",
    "ax1 = plt.subplot(197)\n",
    "ax1.imshow(test_seq[6,:,:],cmap=\"jet\")\n",
    "\n",
    "ax1 = plt.subplot(198)\n",
    "ax1.imshow(test_seq[7,:,:],cmap=\"jet\")\n",
    "\n",
    "ax1 = plt.subplot(199)\n",
    "im = ax1.imshow(test_seq[8,:,:],cmap=\"jet\")\n",
    "fig.colorbar(im)\n"
   ]
  },
  {
   "cell_type": "code",
   "execution_count": null,
   "metadata": {},
   "outputs": [],
   "source": [
    "data_dirs= [\"/Users/gardpavels/uio/MASTER_code/data/data_2021_cuberoot_transformed/medium_dataset/train\",\"/Users/gardpavels/uio/MASTER_code/data/data_2021_cuberoot_transformed/medium_dataset/test\"]\n",
    "\n",
    "def find_glob_max(dirs):\n",
    "    glob_max=0\n",
    "    for dir in dirs: \n",
    "        for filename in tqdm(os.listdir(dir)):\n",
    "            f = os.path.join(dir, filename)\n",
    "            # checking if it is a file\n",
    "            if os.path.isfile(f) and  filename != '.DS_Store':\n",
    "                arr = np.load(f, allow_pickle=True)\n",
    "                max__arr_val = np.max(arr)\n",
    "                if max__arr_val > glob_max:\n",
    "                    glob_max = max__arr_val\n",
    "    print(f\"{glob_max}\")\n",
    "    return glob_max\n",
    "\n",
    "find_glob_max(data_dirs)\n"
   ]
  },
  {
   "cell_type": "code",
   "execution_count": null,
   "metadata": {},
   "outputs": [],
   "source": []
  }
 ],
 "metadata": {
  "kernelspec": {
   "display_name": "Python 3.9.7 ('ML_env')",
   "language": "python",
   "name": "python3"
  },
  "language_info": {
   "codemirror_mode": {
    "name": "ipython",
    "version": 3
   },
   "file_extension": ".py",
   "mimetype": "text/x-python",
   "name": "python",
   "nbconvert_exporter": "python",
   "pygments_lexer": "ipython3",
   "version": "3.9.7"
  },
  "orig_nbformat": 4,
  "vscode": {
   "interpreter": {
    "hash": "54d325ac27653bbd16399bc9890710378eb69529f792fa6d179297359bb410f6"
   }
  }
 },
 "nbformat": 4,
 "nbformat_minor": 2
}
