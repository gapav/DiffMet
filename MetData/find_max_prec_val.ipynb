{
 "cells": [
  {
   "cell_type": "code",
   "execution_count": 1,
   "metadata": {},
   "outputs": [],
   "source": [
    "import numpy as np\n",
    "import xarray as xr\n",
    "import netCDF4\n",
    "import numpy as np\n",
    "import matplotlib.pyplot as plt\n",
    "import pandas as pd\n",
    "import os\n",
    "from tqdm import tqdm\n"
   ]
  },
  {
   "cell_type": "code",
   "execution_count": 2,
   "metadata": {},
   "outputs": [
    {
     "name": "stderr",
     "output_type": "stream",
     "text": [
      "100%|██████████| 8462/8462 [00:46<00:00, 182.69it/s]\n"
     ]
    },
    {
     "data": {
      "text/plain": [
       "39.99895477294922"
      ]
     },
     "execution_count": 2,
     "metadata": {},
     "output_type": "execute_result"
    }
   ],
   "source": [
    "in_folder = \"/Users/gardpavels/uio/MASTER_code/data/2023_final/train\"\n",
    "\n",
    "glob_max = 0\n",
    "\n",
    "for filename in tqdm(os.listdir(in_folder)):\n",
    "    f = os.path.join(in_folder, filename)\n",
    "    # checking if it is a file\n",
    "    if filename != \".DS_Store\":\n",
    "        if os.path.isfile(f):\n",
    "            arr = np.load(f)\n",
    "            lwe_arr = arr[0]\n",
    "            max_val = np.max(lwe_arr)\n",
    "            if max_val > glob_max:\n",
    "                glob_max = max_val\n",
    "glob_max\n"
   ]
  },
  {
   "cell_type": "code",
   "execution_count": 3,
   "metadata": {},
   "outputs": [
    {
     "name": "stderr",
     "output_type": "stream",
     "text": [
      "100%|██████████| 1061/1061 [00:05<00:00, 184.31it/s]\n"
     ]
    },
    {
     "data": {
      "text/plain": [
       "39.99895477294922"
      ]
     },
     "execution_count": 3,
     "metadata": {},
     "output_type": "execute_result"
    }
   ],
   "source": [
    "in_folder = \"/Users/gardpavels/uio/MASTER_code/data/2023_final/test\"\n",
    "\n",
    "glob_max = 0\n",
    "\n",
    "for filename in tqdm(os.listdir(in_folder)):\n",
    "    f = os.path.join(in_folder, filename)\n",
    "    # checking if it is a file\n",
    "    if filename != \".DS_Store\":\n",
    "        if os.path.isfile(f):\n",
    "            arr = np.load(f)\n",
    "            lwe_arr = arr[0]\n",
    "            max_val = np.max(lwe_arr)\n",
    "            if max_val > glob_max:\n",
    "                glob_max = max_val\n",
    "glob_max\n",
    "                        \n"
   ]
  },
  {
   "cell_type": "code",
   "execution_count": 4,
   "metadata": {},
   "outputs": [
    {
     "name": "stderr",
     "output_type": "stream",
     "text": [
      "100%|██████████| 1057/1057 [00:05<00:00, 182.28it/s]\n"
     ]
    },
    {
     "data": {
      "text/plain": [
       "39.99895477294922"
      ]
     },
     "execution_count": 4,
     "metadata": {},
     "output_type": "execute_result"
    }
   ],
   "source": [
    "in_folder = \"/Users/gardpavels/uio/MASTER_code/data/2023_final/val\"\n",
    "\n",
    "glob_max = 0\n",
    "\n",
    "for filename in tqdm(os.listdir(in_folder)):\n",
    "    f = os.path.join(in_folder, filename)\n",
    "    # checking if it is a file\n",
    "    if filename != \".DS_Store\":\n",
    "        if os.path.isfile(f):\n",
    "            arr = np.load(f)\n",
    "            lwe_arr = arr[0]\n",
    "            max_val = np.max(lwe_arr)\n",
    "            if max_val > glob_max:\n",
    "                glob_max = max_val\n",
    "glob_max"
   ]
  }
 ],
 "metadata": {
  "kernelspec": {
   "display_name": "Python 3.9.7 ('ML_env')",
   "language": "python",
   "name": "python3"
  },
  "language_info": {
   "codemirror_mode": {
    "name": "ipython",
    "version": 3
   },
   "file_extension": ".py",
   "mimetype": "text/x-python",
   "name": "python",
   "nbconvert_exporter": "python",
   "pygments_lexer": "ipython3",
   "version": "3.9.7"
  },
  "orig_nbformat": 4,
  "vscode": {
   "interpreter": {
    "hash": "54d325ac27653bbd16399bc9890710378eb69529f792fa6d179297359bb410f6"
   }
  }
 },
 "nbformat": 4,
 "nbformat_minor": 2
}
