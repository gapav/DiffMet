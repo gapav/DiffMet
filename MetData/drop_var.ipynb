{
 "cells": [
  {
   "cell_type": "code",
   "execution_count": null,
   "metadata": {},
   "outputs": [],
   "source": [
    "import numpy as np\n",
    "import xarray as xr\n",
    "import netCDF4\n",
    "import numpy as np\n",
    "import matplotlib.pyplot as plt\n",
    "import pandas as pd\n",
    "import os\n",
    "from tqdm import tqdm\n",
    "\n",
    "\n",
    "import xarray as xr\n",
    "\n",
    "\n",
    "# in_folder = '/Users/gardpavels/uio/MASTER_code/data/2023/sequenced/output/test/1'\n",
    "out_folder = in_folder\n",
    "\n",
    "\n",
    "\n",
    "for filename in tqdm(os.listdir(in_folder)):\n",
    "    f = os.path.join(in_folder, filename)\n",
    "    # checking if it is a file\n",
    "    if filename != \".DS_Store\":\n",
    "        if os.path.isfile(f):\n",
    "            \n",
    "            ds = np.load(f)\n",
    "            os.remove(f)\n",
    "            lwe_conv_strat = ds[0:2, :, :, :]\n",
    "            np.save(f\"{out_folder}/{filename}\", lwe_conv_strat)\n",
    "\n"
   ]
  },
  {
   "cell_type": "code",
   "execution_count": null,
   "metadata": {},
   "outputs": [],
   "source": [
    "# in_folder = '/Users/gardpavels/uio/MASTER_code/data/2023/sequenced/output/test/1'\n",
    "out_folder = in_folder\n",
    "\n",
    "\n",
    "\n",
    "for filename in tqdm(os.listdir(in_folder)):\n",
    "    f = os.path.join(in_folder, filename)\n",
    "    # checking if it is a file\n",
    "    if filename != \".DS_Store\":\n",
    "        if os.path.isfile(f):\n",
    "            \n",
    "            ds = np.load(f)\n",
    "            os.remove(f)\n",
    "            lwe_conv_strat = ds[0:2, :, :, :]\n",
    "            np.save(f\"{out_folder}/{filename}\", lwe_conv_strat)\n"
   ]
  },
  {
   "cell_type": "code",
   "execution_count": null,
   "metadata": {},
   "outputs": [],
   "source": [
    "arr = np.load('/Users/gardpavels/uio/MASTER_code/data/2023/sequenced/output/test/1/1617562500.npy')\n",
    "arr[0]"
   ]
  },
  {
   "cell_type": "code",
   "execution_count": null,
   "metadata": {},
   "outputs": [],
   "source": [
    "import splitfolders\n",
    "\n",
    "splitfolders.ratio('/Users/gardpavels/uio/MASTER_code/data/2023/sequenced', output=\"/Users/gardpavels/uio/MASTER_code/data/2023/sequenced/output\", seed=1337, ratio=(.8, 0.1,0.1), move = True) \n"
   ]
  },
  {
   "cell_type": "code",
   "execution_count": null,
   "metadata": {},
   "outputs": [],
   "source": []
  }
 ],
 "metadata": {
  "kernelspec": {
   "display_name": "ML_env",
   "language": "python",
   "name": "python3"
  },
  "language_info": {
   "codemirror_mode": {
    "name": "ipython",
    "version": 3
   },
   "file_extension": ".py",
   "mimetype": "text/x-python",
   "name": "python",
   "nbconvert_exporter": "python",
   "pygments_lexer": "ipython3",
   "version": "3.9.7"
  },
  "orig_nbformat": 4,
  "vscode": {
   "interpreter": {
    "hash": "54d325ac27653bbd16399bc9890710378eb69529f792fa6d179297359bb410f6"
   }
  }
 },
 "nbformat": 4,
 "nbformat_minor": 2
}
