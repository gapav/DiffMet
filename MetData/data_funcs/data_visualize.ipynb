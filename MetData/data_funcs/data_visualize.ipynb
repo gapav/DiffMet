{
 "cells": [
  {
   "cell_type": "code",
   "execution_count": 2,
   "metadata": {},
   "outputs": [],
   "source": [
    "import netCDF4\n",
    "\n",
    "import numpy as np\n",
    "import xarray as xr\n",
    "import pandas as pd\n",
    "import seaborn as sns\n",
    "import matplotlib.pyplot as plt\n",
    "import cartopy.crs as ccrs\n",
    "import imageio\n",
    "from matplotlib.pyplot import figure\n",
    "from tqdm import tqdm\n",
    "from get_data_funcs import get_open_DAP_precipitation\n",
    "\n",
    "%matplotlib inline"
   ]
  },
  {
   "cell_type": "code",
   "execution_count": 26,
   "metadata": {},
   "outputs": [
    {
     "name": "stderr",
     "output_type": "stream",
     "text": [
      "100%|██████████| 160/160 [00:39<00:00,  4.07it/s]\n"
     ]
    }
   ],
   "source": [
    "from matplotlib.pyplot import get\n",
    "year = \"2020\"\n",
    "month=\"07\"\n",
    "day = \"\"\n",
    "time_start = 40\n",
    "time_end = 200\n",
    "total_steps = time_end-time_start\n",
    "\n",
    "lon_s = 1300\n",
    "lon_e = 1600\n",
    "URL = f\"https://thredds.met.no/thredds/dodsC/remotesensing/reflectivity-nordic/{year}/{month}/yrwms-nordic.mos.pcappi-0-dbz.noclass-clfilter-novpr-clcorr-block.laea-yrwms-1000.{year}{month}{day}.nc?time[{time_start}:{time_end}],lon[{lon_s}:{lon_e}][534:647],lat[{lon_s}:{lon_e}][534:647],lwe_precipitation_rate[{time_start}:{time_end}][{lon_s}:{lon_e}][534:647]\"\n",
    "\n",
    "dataset=  xr.open_dataset(URL)\n",
    "\n",
    "prec_arr = dataset[\"lwe_precipitation_rate\"]\n",
    "max_prec = np.max(prec_arr.values)\n",
    "time_arr = dataset[\"time\"]\n",
    "lat_arr = dataset[\"lat\"].values\n",
    "lon_arr = dataset[\"lon\"].values\n",
    "\n",
    "# oslo_lat = 200\n",
    "# oslo_lon=50\n",
    "# lillehammer_lat = 80\n",
    "# lillehammer_lon=35\n",
    "\n",
    "# print(lat_arr[oslo_lat,oslo_lon])\n",
    "# print(lon_arr[oslo_lat,oslo_lon])\n",
    "\n",
    "# print(lat_arr[lillehammer_lat,lillehammer_lon])\n",
    "# print(lon_arr[lillehammer_lat,lillehammer_lon])\n",
    "\n",
    "\n",
    "# print(lat_arr.shape)\n",
    "# print(lon_arr.shape)\n",
    "# print(lat_arr)\n",
    "# print(lon_arr)\n",
    "\n",
    "\n",
    "timesteps = np.arange(0,total_steps, 1)\n",
    "filenames = []\n",
    "\n",
    "cmap = \"PuBuGn\"\n",
    "for step in tqdm(timesteps):\n",
    "    \n",
    "    precipAtTimestep = prec_arr[step,:,:]\n",
    "    #standarizr for plotting:\n",
    "    # Img = (precipAtTimestep - np.mean(precipAtTimestep)) / np.std(precipAtTimestep)\n",
    "    figure(figsize=(10, 10), dpi=80)\n",
    "    #ds.lwe_precipitation_rate.isel(time_1=step).plot(cmap=\"pink\")  \n",
    "    plt.imshow(precipAtTimestep, cmap= cmap)\n",
    "    plt.clim(0,max_prec) \n",
    "    clb=plt.colorbar()\n",
    "    clb.ax.set_title('mm/h')    # plt.xticks(lon_arr[:,-1])\n",
    "    # plt.yticks(lat_arr[0,:])\n",
    "    plt.title(f\"{time_arr.data[step]}\")\n",
    "    plt.scatter([oslo_lon,lillehammer_lon],[oslo_lat,lillehammer_lat], marker='^')\n",
    "    plt.annotate(\"Oslo\", (oslo_lon,oslo_lat))\n",
    "    plt.annotate(\"Lillehammer\", (lillehammer_lon,lillehammer_lat))\n",
    "\n",
    "    filename = f'{step}.png'\n",
    "    filenames.append(filename)\n",
    "    \n",
    "    # save frame\n",
    "    plt.savefig(filename)\n",
    "    plt.close()\n",
    "    \n",
    "\n",
    "# build gif (https://towardsdatascience.com/basics-of-gifs-with-pythons-matplotlib-54dd544b6f30)\n",
    "with imageio.get_writer(f'precp_{year}_{month}_{day}.gif', mode='I') as writer:\n",
    "    for filename in filenames:\n",
    "        image = imageio.imread(filename)\n",
    "        writer.append_data(image)\n",
    "        \n",
    "# Remove files\n",
    "for filename in set(filenames):\n",
    "    os.remove(filename)\n",
    "  "
   ]
  },
  {
   "cell_type": "code",
   "execution_count": null,
   "metadata": {},
   "outputs": [],
   "source": [
    "  \"\"\"\n",
    "    59.99467\n",
    "    10.882735\n",
    "\n",
    "    61.109974\n",
    "    10.646571\n",
    "    \"\"\""
   ]
  }
 ],
 "metadata": {
  "interpreter": {
   "hash": "54d325ac27653bbd16399bc9890710378eb69529f792fa6d179297359bb410f6"
  },
  "kernelspec": {
   "display_name": "Python 3.9.7 ('ML_env')",
   "language": "python",
   "name": "python3"
  },
  "language_info": {
   "codemirror_mode": {
    "name": "ipython",
    "version": 3
   },
   "file_extension": ".py",
   "mimetype": "text/x-python",
   "name": "python",
   "nbconvert_exporter": "python",
   "pygments_lexer": "ipython3",
   "version": "3.9.7"
  },
  "orig_nbformat": 4
 },
 "nbformat": 4,
 "nbformat_minor": 2
}
