{
 "cells": [
  {
   "cell_type": "code",
   "execution_count": 2,
   "metadata": {},
   "outputs": [],
   "source": [
    "import netCDF4\n",
    "\n",
    "import numpy as np\n",
    "import xarray as xr\n",
    "import pandas as pd\n",
    "import seaborn as sns\n",
    "import matplotlib.pyplot as plt\n",
    "import cartopy.crs as ccrs\n",
    "import imageio\n",
    "from matplotlib.pyplot import figure\n",
    "from tqdm import tqdm\n",
    "\n",
    "%matplotlib inline"
   ]
  },
  {
   "cell_type": "code",
   "execution_count": 48,
   "metadata": {},
   "outputs": [
    {
     "name": "stdout",
     "output_type": "stream",
     "text": [
      "np.min(lat_array)=58.15501, np.max(lat_array)=60.527462\n",
      "np.min(lon_array)=10.151468, np.max(lon_array)=14.812682\n",
      "(256, 256)\n"
     ]
    }
   ],
   "source": [
    "#oppdal: lat: 62.597031 , lon:9.695360\n",
    "\n",
    "#Skien : lat : 59.188160, lon: 9.612769\n",
    "\n",
    "#swe border: lat : 59.818609, lon : 12.505555\n",
    "\n",
    "\n",
    "def get_open_DAP_lon_lat(\n",
    "    year: str, month: str, day: str, time_start: int, time_end: int\n",
    ") -> xr.Dataset:\n",
    "    x_s = 1400\n",
    "    x_e = x_s + 255\n",
    "    y_s = 530\n",
    "    y_e = y_s + 255\n",
    "    \n",
    "    if year == \"2022\" or year == \"2021\":\n",
    "        \"https://thredds.met.no/thredds/dodsC/remotesensing/reflectivity-nordic/2021/05/yrwms-nordic.mos.pcappi-0-dbz.noclass-clfilter-novpr-clcorr-block.nordiclcc-1000.20210531.nc?time[0:1:287],lon[0:1:0][0:1:0],lat[0:1:0][0:1:0],lwe_precipitation_rate[0:1:0][0:1:0][0:1:0]\"\n",
    "        URL = f\"https://thredds.met.no/thredds/dodsC/remotesensing/reflectivity-nordic/2021/{month}/yrwms-nordic.mos.pcappi-0-dbz.noclass-clfilter-novpr-clcorr-block.nordiclcc-1000.{year}{month}{day}.nc?time[{time_start}:{time_end}],lon[{x_s}:{x_e}][{y_s}:{y_e}],lat[{x_s}:{x_e}][{y_s}:{y_e}]\"\n",
    "    elif year == \"test\":\n",
    "        URL = \"https://thredds.met.no/thredds/dodsC/remotesensing/reflectivity-nordic/2021/05/yrwms-nordic.mos.pcappi-0-dbz.noclass-clfilter-novpr-clcorr-block.nordiclcc-1000.20210531.nc?time[0:1:287],lon[0:2133][0:1693],lat[0:2133][0:1693]\"\n",
    "    else:\n",
    "        print(f\"year has to be a string and 2020 or 2021, not {year, type(year)}\")\n",
    "        \n",
    "    dataset = xr.open_dataset(URL)\n",
    "    return dataset\n",
    "\n",
    "dataset = get_open_DAP_lon_lat(\"2021\",\"05\",\"31\",0,287)\n",
    "#lon_array = dataset[\"lon\"].values\n",
    "lat_array = dataset[\"lat\"].values\n",
    "lon_array = dataset[\"lon\"].values\n",
    "\n",
    "print(f\"{np.min(lat_array)=}, {np.max(lat_array)=}\")\n",
    "print(f\"{np.min(lon_array)=}, {np.max(lon_array)=}\")\n",
    "print(lat_array.shape)\n"
   ]
  },
  {
   "cell_type": "code",
   "execution_count": 62,
   "metadata": {},
   "outputs": [
    {
     "name": "stdout",
     "output_type": "stream",
     "text": [
      "OSLO COORDS:\n",
      "59.918865\n",
      "10.768452\n"
     ]
    }
   ],
   "source": [
    "\n",
    "x,y = 60,30\n",
    "\n",
    "print(\"OSLO COORDS:\")\n",
    "print(lat_array[x,y])\n",
    "print(lon_array[x,y])"
   ]
  },
  {
   "cell_type": "markdown",
   "metadata": {},
   "source": [
    "## Plotting:"
   ]
  },
  {
   "cell_type": "code",
   "execution_count": null,
   "metadata": {},
   "outputs": [],
   "source": [
    "# prec_arr = ds[\"lwe_precipitation_rate\"]\n",
    "# time_arr = ds[\"time\"]\n",
    "\n",
    "# timesteps = np.arange(0,286, 1)\n",
    "# filenames = []\n",
    "# cmap_col = \"YlGnBu\"\n",
    "\n",
    "\n",
    "# for step in timesteps:\n",
    "    \n",
    "#     precipAtTimestep = prec_arr[step,:,:]\n",
    "#     #standarizr for plotting:\n",
    "#     # Img = (precipAtTimestep - np.mean(precipAtTimestep)) / np.std(precipAtTimestep)\n",
    "#     figure(figsize=(10, 10), dpi=80)\n",
    "#     #ds.lwe_precipitation_rate.isel(time_1=step).plot(cmap=\"pink\")  \n",
    "#     plt.imshow(precipAtTimestep, cmap = cmap_col)\n",
    "#     # plt.colorbar()\n",
    "#     # plt.clim(0,max_prec) \n",
    "#     plt.title(f\"Precipitation\\nmean:{mean_prec}\\n{time_arr.data[step]}\")\n",
    "#     filename = f'{step}.png'\n",
    "#     filenames.append(filename)\n",
    "    \n",
    "#     # save frame\n",
    "#     plt.savefig(filename)\n",
    "#     plt.close()\n",
    "    \n",
    "\n",
    "# # build gif (https://towardsdatascience.com/basics-of-gifs-with-pythons-matplotlib-54dd544b6f30)\n",
    "# with imageio.get_writer(f'precp_{year}{month}{day}{cmap_col}.gif', mode='I') as writer:\n",
    "#     for filename in filenames:\n",
    "#         image = imageio.imread(filename)\n",
    "#         writer.append_data(image)\n",
    "        \n",
    "# # Remove files\n",
    "# for filename in set(filenames):\n",
    "#     os.remove(filename)\n",
    "    \n"
   ]
  },
  {
   "cell_type": "code",
   "execution_count": null,
   "metadata": {},
   "outputs": [],
   "source": []
  },
  {
   "cell_type": "code",
   "execution_count": null,
   "metadata": {},
   "outputs": [],
   "source": []
  }
 ],
 "metadata": {
  "interpreter": {
   "hash": "54d325ac27653bbd16399bc9890710378eb69529f792fa6d179297359bb410f6"
  },
  "kernelspec": {
   "display_name": "Python 3.9.7 ('ML_env')",
   "language": "python",
   "name": "python3"
  },
  "language_info": {
   "codemirror_mode": {
    "name": "ipython",
    "version": 3
   },
   "file_extension": ".py",
   "mimetype": "text/x-python",
   "name": "python",
   "nbconvert_exporter": "python",
   "pygments_lexer": "ipython3",
   "version": "3.9.7"
  },
  "orig_nbformat": 4
 },
 "nbformat": 4,
 "nbformat_minor": 2
}
