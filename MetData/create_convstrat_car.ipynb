{
 "cells": [
  {
   "cell_type": "code",
   "execution_count": 2,
   "metadata": {},
   "outputs": [
    {
     "name": "stderr",
     "output_type": "stream",
     "text": [
      "100%|██████████| 195/195 [01:44<00:00,  1.87it/s]\n"
     ]
    }
   ],
   "source": [
    "import numpy as np \n",
    "import matplotlib.pyplot as plt\n",
    "import xarray as xr\n",
    "\n",
    "import os\n",
    "from tqdm import tqdm\n",
    "\n",
    "\n",
    "from data_funcs.create_conv_var import add_var_to_all_files_from_LWE\n",
    "\n",
    "# Load your xarray files\n",
    "\n",
    "\n",
    "add_var_to_all_files_from_LWE(in_folder=\"\", out_folder='')\n",
    "\n"
   ]
  },
  {
   "attachments": {},
   "cell_type": "markdown",
   "metadata": {},
   "source": [
    "# Testing new variable\n"
   ]
  },
  {
   "cell_type": "code",
   "execution_count": null,
   "metadata": {},
   "outputs": [],
   "source": [
    "data = xr.open_dataset(\"\")"
   ]
  },
  {
   "cell_type": "code",
   "execution_count": null,
   "metadata": {},
   "outputs": [],
   "source": [
    "data"
   ]
  },
  {
   "attachments": {},
   "cell_type": "markdown",
   "metadata": {},
   "source": [
    "Plotting new variable:"
   ]
  },
  {
   "cell_type": "code",
   "execution_count": null,
   "metadata": {},
   "outputs": [],
   "source": [
    "conv_strat = data[\"conv_strat_none\"]\n",
    "clas = data[\"classification\"]\n",
    "lwe_precipitation_rate = data[\"lwe_precipitation_rate\"]\n",
    "is_convective = data[\"is_convective\"]\n",
    "time = data[\"time\"]\n",
    "\n",
    "# find frame with values: \n",
    "\n"
   ]
  },
  {
   "cell_type": "code",
   "execution_count": null,
   "metadata": {},
   "outputs": [],
   "source": [
    "time"
   ]
  },
  {
   "cell_type": "code",
   "execution_count": null,
   "metadata": {},
   "outputs": [],
   "source": [
    "\n",
    "def count_occurences():\n",
    "    \"\"\"Simple print check to see if the newly made variable actually contains any other values than zero\"\"\"\n",
    "    in_folder = \"\"\n",
    "    for filename in tqdm(os.listdir(in_folder)):\n",
    "        f = os.path.join(in_folder, filename)\n",
    "        # checking if it is a file\n",
    "        if filename != \".DS_Store\":\n",
    "            if os.path.isfile(f):\n",
    "                ds = xr.open_dataset(f)\n",
    "                conv_strat = ds[\"conv_strat_none\"]\n",
    "\n",
    "                for fr in range(conv_strat.shape[0]):\n",
    "                    frame = conv_strat[fr,:,:]\n",
    "                    np_array = frame.values\n",
    "                    sum= (np.sum(np_array))\n",
    "                    if sum != 0:\n",
    "                        print(sum)\n"
   ]
  },
  {
   "cell_type": "code",
   "execution_count": null,
   "metadata": {},
   "outputs": [],
   "source": [
    "conv_strat_np = conv_strat.values"
   ]
  },
  {
   "cell_type": "code",
   "execution_count": null,
   "metadata": {},
   "outputs": [],
   "source": [
    "def find_img_idx_with_max_convective(conv_strat_np):\n",
    "    \n",
    "    counts = np.sum(conv_strat_np == 1, axis=(1, 2))\n",
    "    index = np.argmax(counts)\n",
    "    return index\n",
    "\n",
    "idx = find_img_idx_with_max_convective(conv_strat_np=conv_strat_np)"
   ]
  },
  {
   "cell_type": "code",
   "execution_count": null,
   "metadata": {},
   "outputs": [],
   "source": [
    "plt.imshow(lwe_precipitation_rate[idx,:,:])"
   ]
  },
  {
   "cell_type": "code",
   "execution_count": null,
   "metadata": {},
   "outputs": [],
   "source": [
    "plt.imshow(conv_strat_np[idx,:,:])"
   ]
  },
  {
   "cell_type": "code",
   "execution_count": null,
   "metadata": {},
   "outputs": [],
   "source": []
  }
 ],
 "metadata": {
  "kernelspec": {
   "display_name": "Python 3.9.7 ('ML_env')",
   "language": "python",
   "name": "python3"
  },
  "language_info": {
   "codemirror_mode": {
    "name": "ipython",
    "version": 3
   },
   "file_extension": ".py",
   "mimetype": "text/x-python",
   "name": "python",
   "nbconvert_exporter": "python",
   "pygments_lexer": "ipython3",
   "version": "3.9.7"
  },
  "orig_nbformat": 4,
  "vscode": {
   "interpreter": {
    "hash": "54d325ac27653bbd16399bc9890710378eb69529f792fa6d179297359bb410f6"
   }
  }
 },
 "nbformat": 4,
 "nbformat_minor": 2
}
