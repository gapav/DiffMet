{
 "cells": [
  {
   "cell_type": "code",
   "execution_count": 1,
   "metadata": {},
   "outputs": [],
   "source": [
    "import numpy as np \n",
    "import matplotlib.pyplot as plt\n",
    "import xarray as xr\n",
    "\n",
    "import os\n",
    "from tqdm import tqdm\n",
    "\n",
    "\n",
    "import data_funcs.helper_module as hm\n",
    "from data_funcs.create_seq import create_sequences\n",
    "from data_funcs.create_conv_var import add_var_to_all_files_from_LWE\n",
    "from data_funcs.helper_module import get_precipitation_histo"
   ]
  },
  {
   "attachments": {},
   "cell_type": "markdown",
   "metadata": {},
   "source": [
    "### Print histo:"
   ]
  },
  {
   "cell_type": "code",
   "execution_count": 2,
   "metadata": {},
   "outputs": [],
   "source": [
    "# get_precipitation_histo(directory=\"/Users/gardpavels/uio/MASTER_code/data/data_2022/processed/added_conv_strat_var\", output_seq=8, low_sum_tresh = 60000, max_val_tresh=40, clutter_prob=False)\n"
   ]
  },
  {
   "cell_type": "code",
   "execution_count": 3,
   "metadata": {},
   "outputs": [],
   "source": [
    "# get_precipitation_histo(directory=\"/Users/gardpavels/uio/MASTER_code/data/data_2021/processed/added_conv_strat_var\", output_seq=8, low_sum_tresh = 50000, max_val_tresh=40, clutter_prob=False)\n"
   ]
  },
  {
   "cell_type": "code",
   "execution_count": null,
   "metadata": {},
   "outputs": [],
   "source": []
  },
  {
   "attachments": {},
   "cell_type": "markdown",
   "metadata": {},
   "source": [
    "#### Add new variable with conv/strat:"
   ]
  },
  {
   "cell_type": "code",
   "execution_count": 4,
   "metadata": {},
   "outputs": [],
   "source": [
    "# add_var_to_all_files_from_LWE(in_folder=\"/Users/gardpavels/uio/MASTER_code/data/data_2021/raw\", out_folder=\"/Users/gardpavels/uio/MASTER_code/data/data_2021/processed/added_conv_strat_var\")\n",
    "# add_var_to_all_files_from_LWE(in_folder=\"/Users/gardpavels/uio/MASTER_code/data/data_2022/raw\", out_folder=\"/Users/gardpavels/uio/MASTER_code/data/data_2022/processed/added_conv_strat_var\")\n"
   ]
  },
  {
   "attachments": {},
   "cell_type": "markdown",
   "metadata": {},
   "source": [
    "#### Create sequences"
   ]
  },
  {
   "cell_type": "code",
   "execution_count": 5,
   "metadata": {},
   "outputs": [
    {
     "name": "stderr",
     "output_type": "stream",
     "text": [
      "100%|██████████| 211/211 [06:57<00:00,  1.98s/it]\n"
     ]
    },
    {
     "name": "stdout",
     "output_type": "stream",
     "text": [
      "sequence_saved_count=5968, max_prec_val_global=0, cluttered_sequences=0, seq_sum_smaller_low_sum_tresh=33851,max_prec_val_over_prec_tresh_val=18564, seq_with_nans=333\n"
     ]
    },
    {
     "name": "stderr",
     "output_type": "stream",
     "text": [
      "100%|██████████| 212/212 [06:22<00:00,  1.80s/it]"
     ]
    },
    {
     "name": "stdout",
     "output_type": "stream",
     "text": [
      "sequence_saved_count=4609, max_prec_val_global=0, cluttered_sequences=0, seq_sum_smaller_low_sum_tresh=32153,max_prec_val_over_prec_tresh_val=22208, seq_with_nans=385\n"
     ]
    },
    {
     "name": "stderr",
     "output_type": "stream",
     "text": [
      "\n"
     ]
    }
   ],
   "source": [
    "create_sequences(out_seq_len=8, in_folder=\"/Users/gardpavels/uio/MASTER_code/data/data_2021/processed/added_conv_strat_var\", out_folder=\"/Users/gardpavels/uio/MASTER_code/data/2023\", max_numb_of_seq_wanted=8000, low_sum_tresh=50000, prec_tresh_val=40)\n",
    "create_sequences(out_seq_len=8, in_folder=\"/Users/gardpavels/uio/MASTER_code/data/data_2022/processed/added_conv_strat_var\", out_folder=\"/Users/gardpavels/uio/MASTER_code/data/2023\", max_numb_of_seq_wanted=8000, low_sum_tresh=50000, prec_tresh_val=40)\n"
   ]
  },
  {
   "cell_type": "code",
   "execution_count": 7,
   "metadata": {},
   "outputs": [
    {
     "name": "stderr",
     "output_type": "stream",
     "text": [
      "Copying files: 10577 files [00:01, 6124.54 files/s]\n"
     ]
    }
   ],
   "source": [
    "\n",
    "import splitfolders\n",
    "\n",
    "# splitfolders.ratio('/Users/gardpavels/uio/MASTER_code/data/2023/lwe', output=\"/Users/gardpavels/uio/MASTER_code/data/2023/lwe_dataset\", seed=1337, ratio=(.8, 0.1,0.1),move=True) \n"
   ]
  },
  {
   "cell_type": "code",
   "execution_count": null,
   "metadata": {},
   "outputs": [],
   "source": []
  }
 ],
 "metadata": {
  "kernelspec": {
   "display_name": "ML_env",
   "language": "python",
   "name": "python3"
  },
  "language_info": {
   "codemirror_mode": {
    "name": "ipython",
    "version": 3
   },
   "file_extension": ".py",
   "mimetype": "text/x-python",
   "name": "python",
   "nbconvert_exporter": "python",
   "pygments_lexer": "ipython3",
   "version": "3.9.7"
  },
  "orig_nbformat": 4,
  "vscode": {
   "interpreter": {
    "hash": "54d325ac27653bbd16399bc9890710378eb69529f792fa6d179297359bb410f6"
   }
  }
 },
 "nbformat": 4,
 "nbformat_minor": 2
}
