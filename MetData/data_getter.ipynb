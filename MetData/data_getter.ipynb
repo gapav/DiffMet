{
 "cells": [
  {
   "cell_type": "code",
   "execution_count": 1,
   "metadata": {},
   "outputs": [],
   "source": [
    "import netCDF4\n",
    "\n",
    "import numpy as np\n",
    "import xarray as xr\n",
    "import pandas as pd\n",
    "import seaborn as sns\n",
    "import matplotlib.pyplot as plt\n",
    "import cartopy.crs as ccrs\n",
    "import imageio\n",
    "from matplotlib.pyplot import figure\n",
    "from tqdm import tqdm\n",
    "\n",
    "%matplotlib inline\n",
    "from data_funcs.helper_module import get_open_DAP_precipitation"
   ]
  },
  {
   "cell_type": "code",
   "execution_count": 2,
   "metadata": {},
   "outputs": [],
   "source": [
    "def recursive_time_shorten(year,month_idx, day, time):\n",
    "    \n",
    "    \n",
    "    if time >270:\n",
    "        try:\n",
    "            data = get_open_DAP_precipitation(year,months[month_idx], day,0,time)\n",
    "\n",
    "            \n",
    "            \n",
    "            data.to_netcdf(f\"data_{year}/{year}{months[month_idx]}{day}.nc\")\n",
    "            print(f\"Saved: Month: {months[month_idx]}, day: {day}, with {time=}\")\n",
    "\n",
    "        except OSError:\n",
    "            print(f\"Error for Month: {months[month_idx]}, day: {day}, time_end = {time}\")\n",
    "            time -= 1\n",
    "            recursive_time_shorten(year, month_idx, day, time)"
   ]
  },
  {
   "cell_type": "code",
   "execution_count": 3,
   "metadata": {},
   "outputs": [],
   "source": [
    "# test_sample= get_open_DAP_precipitation(\"2021\",\"07\", \"01\",0,286)"
   ]
  },
  {
   "cell_type": "code",
   "execution_count": 4,
   "metadata": {},
   "outputs": [
    {
     "name": "stderr",
     "output_type": "stream",
     "text": [
      " 37%|███▋      | 11/30 [03:15<05:54, 18.67s/it]oc_open: server error retrieving url: code=3 message=\"Invalid Parameter Exception: DArrayDimension.setProjection: Bad Projection Request: stop >= size: 287:259\"oc_open: server error retrieving url: code=3 message=\"Invalid Parameter Exception: DArrayDimension.setProjection: Bad Projection Request: stop >= size: 287:259\"oc_open: server error retrieving url: code=3 message=\"Invalid Parameter Exception: DArrayDimension.setProjection: Bad Projection Request: stop >= size: 286:259\"oc_open: server error retrieving url: code=3 message=\"Invalid Parameter Exception: DArrayDimension.setProjection: Bad Projection Request: stop >= size: 285:259\"oc_open: server error retrieving url: code=3 message=\"Invalid Parameter Exception: DArrayDimension.setProjection: Bad Projection Request: stop >= size: 284:259\"oc_open: server error retrieving url: code=3 message=\"Invalid Parameter Exception: DArrayDimension.setProjection: Bad Projection Request: stop >= size: 283:259\""
     ]
    },
    {
     "name": "stdout",
     "output_type": "stream",
     "text": [
      "Error for Month: 04, day: 12\n",
      "Error for Month: 04, day: 12, time_end = 287\n",
      "Error for Month: 04, day: 12, time_end = 286\n",
      "Error for Month: 04, day: 12, time_end = 285\n",
      "Error for Month: 04, day: 12, time_end = 284\n",
      "Error for Month: 04, day: 12, time_end = 283"
     ]
    },
    {
     "name": "stderr",
     "output_type": "stream",
     "text": [
      "oc_open: server error retrieving url: code=3 message=\"Invalid Parameter Exception: DArrayDimension.setProjection: Bad Projection Request: stop >= size: 282:259\"oc_open: server error retrieving url: code=3 message=\"Invalid Parameter Exception: DArrayDimension.setProjection: Bad Projection Request: stop >= size: 281:259\"oc_open: server error retrieving url: code=3 message=\"Invalid Parameter Exception: DArrayDimension.setProjection: Bad Projection Request: stop >= size: 280:259\"oc_open: server error retrieving url: code=3 message=\"Invalid Parameter Exception: DArrayDimension.setProjection: Bad Projection Request: stop >= size: 279:259\""
     ]
    },
    {
     "name": "stdout",
     "output_type": "stream",
     "text": [
      "\n",
      "Error for Month: 04, day: 12, time_end = 282\n",
      "Error for Month: 04, day: 12, time_end = 281\n",
      "Error for Month: 04, day: 12, time_end = 280\n"
     ]
    },
    {
     "name": "stderr",
     "output_type": "stream",
     "text": [
      "oc_open: server error retrieving url: code=3 message=\"Invalid Parameter Exception: DArrayDimension.setProjection: Bad Projection Request: stop >= size: 278:259\"oc_open: server error retrieving url: code=3 message=\"Invalid Parameter Exception: DArrayDimension.setProjection: Bad Projection Request: stop >= size: 277:259\"oc_open: server error retrieving url: code=3 message=\"Invalid Parameter Exception: DArrayDimension.setProjection: Bad Projection Request: stop >= size: 276:259\""
     ]
    },
    {
     "name": "stdout",
     "output_type": "stream",
     "text": [
      "Error for Month: 04, day: 12, time_end = 279\n",
      "Error for Month: 04, day: 12, time_end = 278\n",
      "Error for Month: 04, day: 12, time_end = 277\n",
      "Error for Month: 04, day: 12, time_end = 276\n"
     ]
    },
    {
     "name": "stderr",
     "output_type": "stream",
     "text": [
      " 40%|████      | 12/30 [03:19<04:15, 14.22s/it]ssage=\"Invalid Parameter Exception: DArrayDimension.setProjection: Bad Projection Request: stop >= size: 275:259\"oc_open: server error retrieving url: code=3 message=\"Invalid Parameter Exception: DArrayDimension.setProjection: Bad Projection Request: stop >= size: 274:259\"oc_open: server error retrieving url: code=3 message=\"Invalid Parameter Exception: DArrayDimension.setProjection: Bad Projection Request: stop >= size: 273:259\"oc_open: server error retrieving url: code=3 message=\"Invalid Parameter Exception: DArrayDimension.setProjection: Bad Projection Request: stop >= size: 272:259\"oc_open: server error retrieving url: code=3 message=\"Invalid Parameter Exception: DArrayDimension.setProjection: Bad Projection Request: stop >= size: 271:259\""
     ]
    },
    {
     "name": "stdout",
     "output_type": "stream",
     "text": [
      "Error for Month: 04, day: 12, time_end = 275\n",
      "Error for Month: 04, day: 12, time_end = 274\n",
      "Error for Month: 04, day: 12, time_end = 273\n",
      "Error for Month: 04, day: 12, time_end = 272\n",
      "Error for Month: 04, day: 12, time_end = 271\n"
     ]
    },
    {
     "name": "stderr",
     "output_type": "stream",
     "text": [
      " 93%|█████████▎| 28/30 [08:06<00:42, 21.44s/it]oc_open: server error retrieving url: code=3 message=\"Invalid Parameter Exception: DArrayDimension.setProjection: Bad Projection Request: stop >= size: 287:248\"oc_open: server error retrieving url: code=3 message=\"Invalid Parameter Exception: DArrayDimension.setProjection: Bad Projection Request: stop >= size: 287:248\"oc_open: server error retrieving url: code=3 message=\"Invalid Parameter Exception: DArrayDimension.setProjection: Bad Projection Request: stop >= size: 286:248\""
     ]
    },
    {
     "name": "stdout",
     "output_type": "stream",
     "text": [
      "Error for Month: 04, day: 29\n",
      "Error for Month: 04, day: 29, time_end = 287\n",
      "Error for Month: 04, day: 29, time_end = 286\n",
      "Error for Month: 04, day: 29, time_end = 285\n",
      "Error for Month: 04, day: 29, time_end = 284\n",
      "Error for Month: 04, day: 29, time_end = 283\n",
      "Error for Month: 04, day: 29, time_end = 282\n"
     ]
    },
    {
     "name": "stderr",
     "output_type": "stream",
     "text": [
      "oc_open: server error retrieving url: code=3 message=\"Invalid Parameter Exception: DArrayDimension.setProjection: Bad Projection Request: stop >= size: 285:248\"oc_open: server error retrieving url: code=3 message=\"Invalid Parameter Exception: DArrayDimension.setProjection: Bad Projection Request: stop >= size: 284:248\"oc_open: server error retrieving url: code=3 message=\"Invalid Parameter Exception: DArrayDimension.setProjection: Bad Projection Request: stop >= size: 283:248\"oc_open: server error retrieving url: code=3 message=\"Invalid Parameter Exception: DArrayDimension.setProjection: Bad Projection Request: stop >= size: 282:248\"oc_open: server error retrieving url: code=3 message=\"Invalid Parameter Exception: DArrayDimension.setProjection: Bad Projection Request: stop >= size: 281:248\"oc_open: server error retrieving url: code=3 message=\"Invalid Parameter Exception: DArrayDimension.setProjection: Bad Projection Request: stop >= size: 280:248\"oc_open: server error retrieving url: code=3 message=\"Invalid Parameter Exception: DArrayDimension.setProjection: Bad Projection Request: stop >= size: 279:248\""
     ]
    },
    {
     "name": "stdout",
     "output_type": "stream",
     "text": [
      "Error for Month: 04, day: 29, time_end = 281\n",
      "Error for Month: 04, day: 29, time_end = 280\n",
      "Error for Month: 04, day: 29, time_end = 279\n",
      "Error for Month: 04, day: 29, time_end = 278\n",
      "Error for Month: 04, day: 29, time_end = 277\n",
      "Error for Month: 04, day: 29, time_end = 276\n",
      "Error for Month: 04, day: 29, time_end = 275\n"
     ]
    },
    {
     "name": "stderr",
     "output_type": "stream",
     "text": [
      " 97%|█████████▋| 29/30 [08:12<00:16, 16.72s/it]ssage=\"Invalid Parameter Exception: DArrayDimension.setProjection: Bad Projection Request: stop >= size: 278:248\"oc_open: server error retrieving url: code=3 message=\"Invalid Parameter Exception: DArrayDimension.setProjection: Bad Projection Request: stop >= size: 277:248\"oc_open: server error retrieving url: code=3 message=\"Invalid Parameter Exception: DArrayDimension.setProjection: Bad Projection Request: stop >= size: 276:248\"oc_open: server error retrieving url: code=3 message=\"Invalid Parameter Exception: DArrayDimension.setProjection: Bad Projection Request: stop >= size: 275:248\"oc_open: server error retrieving url: code=3 message=\"Invalid Parameter Exception: DArrayDimension.setProjection: Bad Projection Request: stop >= size: 274:248\"oc_open: server error retrieving url: code=3 message=\"Invalid Parameter Exception: DArrayDimension.setProjection: Bad Projection Request: stop >= size: 273:248\"oc_open: server error retrieving url: code=3 message=\"Invalid Parameter Exception: DArrayDimension.setProjection: Bad Projection Request: stop >= size: 272:248\"oc_open: server error retrieving url: code=3 message=\"Invalid Parameter Exception: DArrayDimension.setProjection: Bad Projection Request: stop >= size: 271:248\""
     ]
    },
    {
     "name": "stdout",
     "output_type": "stream",
     "text": [
      "Error for Month: 04, day: 29, time_end = 274\n",
      "Error for Month: 04, day: 29, time_end = 273\n",
      "Error for Month: 04, day: 29, time_end = 272\n",
      "Error for Month: 04, day: 29, time_end = 271\n"
     ]
    },
    {
     "name": "stderr",
     "output_type": "stream",
     "text": [
      "100%|██████████| 30/30 [08:31<00:00, 17.06s/it]\n",
      " 10%|▉         | 3/31 [01:00<09:26, 20.24s/it]oc_open: server error retrieving url: code=3 message=\"Invalid Parameter Exception: DArrayDimension.setProjection: Bad Projection Request: stop >= size: 287:286\"oc_open: server error retrieving url: code=3 message=\"Invalid Parameter Exception: DArrayDimension.setProjection: Bad Projection Request: stop >= size: 287:286\"oc_open: server error retrieving url: code=3 message=\"Invalid Parameter Exception: DArrayDimension.setProjection: Bad Projection Request: stop >= size: 286:286\""
     ]
    },
    {
     "name": "stdout",
     "output_type": "stream",
     "text": [
      "Error for Month: 05, day: 04\n",
      "Error for Month: 05, day: 04, time_end = 287\n",
      "Error for Month: 05, day: 04, time_end = 286\n",
      "Error for Month: 05, day: 04, time_end = 285\n",
      "Error for Month: 05, day: 04, time_end = 284\n",
      "Error for Month: 05, day: 04, time_end = 283\n",
      "Error for Month: 05, day: 04, time_end = 282\n",
      "Error for Month: 05, day: 04, time_end = 281\n",
      "Error for Month: 05, day: 04, time_end = 280\n",
      "Error for Month: 05, day: 04, time_end = 279\n",
      "Error for Month: 05, day: 04, time_end = 278\n",
      "Error for Month: 05, day: 04, time_end = 277\n",
      "Error for Month: 05, day: 04, time_end = 276\n",
      "Error for Month: 05, day: 04, time_end = 275\n",
      "Error for Month: 05, day: 04, time_end = 274\n",
      "Error for Month: 05, day: 04, time_end = 273\n",
      "Error for Month: 05, day: 04, time_end = 272\n",
      "Error for Month: 05, day: 04, time_end = 271\n"
     ]
    },
    {
     "name": "stderr",
     "output_type": "stream",
     "text": [
      "100%|██████████| 31/31 [10:31<00:00, 20.37s/it]\n",
      " 23%|██▎       | 7/30 [02:02<06:46, 17.69s/it]"
     ]
    },
    {
     "name": "stdout",
     "output_type": "stream",
     "text": [
      "Error for Month: 06, day: 08\n",
      "Error for Month: 06, day: 08, time_end = 287\n",
      "Error for Month: 06, day: 08, time_end = 286\n",
      "Error for Month: 06, day: 08, time_end = 285\n"
     ]
    },
    {
     "name": "stderr",
     "output_type": "stream",
     "text": [
      "oc_open: server error retrieving url: code=3 message=\"Invalid Parameter Exception: DArrayDimension.setProjection: Bad Projection Request: stop >= size: 287:284\"oc_open: server error retrieving url: code=3 message=\"Invalid Parameter Exception: DArrayDimension.setProjection: Bad Projection Request: stop >= size: 287:284\"oc_open: server error retrieving url: code=3 message=\"Invalid Parameter Exception: DArrayDimension.setProjection: Bad Projection Request: stop >= size: 286:284\"oc_open: server error retrieving url: code=3 message=\"Invalid Parameter Exception: DArrayDimension.setProjection: Bad Projection Request: stop >= size: 285:284\"oc_open: server error retrieving url: code=3 message=\"Invalid Parameter Exception: DArrayDimension.setProjection: Bad Projection Request: stop >= size: 284:284\""
     ]
    },
    {
     "name": "stdout",
     "output_type": "stream",
     "text": [
      "Error for Month: 06, day: 08, time_end = 284\n",
      "Error for Month: 06, day: 08, time_end = 283\n",
      "Error for Month: 06, day: 08, time_end = 282\n",
      "Error for Month: 06, day: 08, time_end = 281\n",
      "Error for Month: 06, day: 08, time_end = 280\n",
      "Error for Month: 06, day: 08, time_end = 279\n",
      "Error for Month: 06, day: 08, time_end = 278\n",
      "Error for Month: 06, day: 08, time_end = 277\n",
      "Error for Month: 06, day: 08, time_end = 276\n",
      "Error for Month: 06, day: 08, time_end = 275\n",
      "Error for Month: 06, day: 08, time_end = 274\n",
      "Error for Month: 06, day: 08, time_end = 273\n"
     ]
    },
    {
     "name": "stderr",
     "output_type": "stream",
     "text": [
      " 27%|██▋       | 8/30 [02:11<05:25, 14.81s/it]"
     ]
    },
    {
     "name": "stdout",
     "output_type": "stream",
     "text": [
      "Error for Month: 06, day: 08, time_end = 272\n",
      "Error for Month: 06, day: 08, time_end = 271\n"
     ]
    },
    {
     "name": "stderr",
     "output_type": "stream",
     "text": [
      " 43%|████▎     | 13/30 [03:56<05:42, 20.14s/it]oc_open: server error retrieving url: code=3 message=\"Invalid Parameter Exception: DArrayDimension.setProjection: Bad Projection Request: stop >= size: 287:277\"oc_open: server error retrieving url: code=3 message=\"Invalid Parameter Exception: DArrayDimension.setProjection: Bad Projection Request: stop >= size: 287:277\""
     ]
    },
    {
     "name": "stdout",
     "output_type": "stream",
     "text": [
      "Error for Month: 06, day: 14\n",
      "Error for Month: 06, day: 14, time_end = 287\n",
      "Error for Month: 06, day: 14, time_end = 286\n",
      "Error for Month: 06, day: 14, time_end = 285\n",
      "Error for Month: 06, day: 14, time_end = 284\n",
      "Error for Month: 06, day: 14, time_end = 283\n",
      "Error for Month: 06, day: 14, time_end = 282\n",
      "Error for Month: 06, day: 14, time_end = 281\n",
      "Error for Month: 06, day: 14, time_end = 280\n",
      "Error for Month: 06, day: 14, time_end = 279\n"
     ]
    },
    {
     "name": "stderr",
     "output_type": "stream",
     "text": [
      "oc_open: server error retrieving url: code=3 message=\"Invalid Parameter Exception: DArrayDimension.setProjection: Bad Projection Request: stop >= size: 286:277\"oc_open: server error retrieving url: code=3 message=\"Invalid Parameter Exception: DArrayDimension.setProjection: Bad Projection Request: stop >= size: 285:277\"oc_open: server error retrieving url: code=3 message=\"Invalid Parameter Exception: DArrayDimension.setProjection: Bad Projection Request: stop >= size: 284:277\"oc_open: server error retrieving url: code=3 message=\"Invalid Parameter Exception: DArrayDimension.setProjection: Bad Projection Request: stop >= size: 283:277\"oc_open: server error retrieving url: code=3 message=\"Invalid Parameter Exception: DArrayDimension.setProjection: Bad Projection Request: stop >= size: 282:277\"oc_open: server error retrieving url: code=3 message=\"Invalid Parameter Exception: DArrayDimension.setProjection: Bad Projection Request: stop >= size: 281:277\"oc_open: server error retrieving url: code=3 message=\"Invalid Parameter Exception: DArrayDimension.setProjection: Bad Projection Request: stop >= size: 280:277\"oc_open: server error retrieving url: code=3 message=\"Invalid Parameter Exception: DArrayDimension.setProjection: Bad Projection Request: stop >= size: 279:277\"oc_open: server error retrieving url: code=3 message=\"Invalid Parameter Exception: DArrayDimension.setProjection: Bad Projection Request: stop >= size: 278:277\""
     ]
    },
    {
     "name": "stdout",
     "output_type": "stream",
     "text": [
      "Error for Month: 06, day: 14, time_end = 278\n",
      "Error for Month: 06, day: 14, time_end = 277\n"
     ]
    },
    {
     "name": "stderr",
     "output_type": "stream",
     "text": [
      "oc_open: server error retrieving url: code=3 message=\"Invalid Parameter Exception: DArrayDimension.setProjection: Bad Projection Request: stop >= size: 277:277\""
     ]
    },
    {
     "name": "stdout",
     "output_type": "stream",
     "text": [
      "Error for Month: 06, day: 14, time_end = 276\n",
      "Error for Month: 06, day: 14, time_end = 275\n",
      "Error for Month: 06, day: 14, time_end = 274\n",
      "Error for Month: 06, day: 14, time_end = 273\n"
     ]
    },
    {
     "name": "stderr",
     "output_type": "stream",
     "text": [
      " 47%|████▋     | 14/30 [04:00<04:08, 15.53s/it]"
     ]
    },
    {
     "name": "stdout",
     "output_type": "stream",
     "text": [
      "Error for Month: 06, day: 14, time_end = 272\n",
      "Error for Month: 06, day: 14, time_end = 271\n"
     ]
    },
    {
     "name": "stderr",
     "output_type": "stream",
     "text": [
      "oc_open: server error retrieving url: code=3 message=\"Invalid Parameter Exception: DArrayDimension.setProjection: Bad Projection Request: stop >= size: 287:275\"oc_open: server error retrieving url: code=3 message=\"Invalid Parameter Exception: DArrayDimension.setProjection: Bad Projection Request: stop >= size: 287:275\"oc_open: server error retrieving url: code=3 message=\"Invalid Parameter Exception: DArrayDimension.setProjection: Bad Projection Request: stop >= size: 286:275\"oc_open: server error retrieving url: code=3 message=\"Invalid Parameter Exception: DArrayDimension.setProjection: Bad Projection Request: stop >= size: 285:275\""
     ]
    },
    {
     "name": "stdout",
     "output_type": "stream",
     "text": [
      "Error for Month: 06, day: 15\n",
      "Error for Month: 06, day: 15, time_end = 287\n",
      "Error for Month: 06, day: 15, time_end = 286\n",
      "Error for Month: 06, day: 15, time_end = 285\n",
      "Error for Month: 06, day: 15, time_end = 284\n",
      "Error for Month: 06, day: 15, time_end = 283\n",
      "Error for Month: 06, day: 15, time_end = 282\n",
      "Error for Month: 06, day: 15, time_end = 281\n",
      "Error for Month: 06, day: 15, time_end = 280\n"
     ]
    },
    {
     "name": "stderr",
     "output_type": "stream",
     "text": [
      "oc_open: server error retrieving url: code=3 message=\"Invalid Parameter Exception: DArrayDimension.setProjection: Bad Projection Request: stop >= size: 284:275\"oc_open: server error retrieving url: code=3 message=\"Invalid Parameter Exception: DArrayDimension.setProjection: Bad Projection Request: stop >= size: 283:275\"oc_open: server error retrieving url: code=3 message=\"Invalid Parameter Exception: DArrayDimension.setProjection: Bad Projection Request: stop >= size: 282:275\"oc_open: server error retrieving url: code=3 message=\"Invalid Parameter Exception: DArrayDimension.setProjection: Bad Projection Request: stop >= size: 281:275\"oc_open: server error retrieving url: code=3 message=\"Invalid Parameter Exception: DArrayDimension.setProjection: Bad Projection Request: stop >= size: 280:275\"oc_open: server error retrieving url: code=3 message=\"Invalid Parameter Exception: DArrayDimension.setProjection: Bad Projection Request: stop >= size: 279:275\""
     ]
    },
    {
     "name": "stdout",
     "output_type": "stream",
     "text": [
      "Error for Month: 06, day: 15, time_end = 279\n",
      "Error for Month: 06, day: 15, time_end = 278\n",
      "Error for Month: 06, day: 15, time_end = 277\n"
     ]
    },
    {
     "name": "stderr",
     "output_type": "stream",
     "text": [
      "oc_open: server error retrieving url: code=3 message=\"Invalid Parameter Exception: DArrayDimension.setProjection: Bad Projection Request: stop >= size: 278:275\"oc_open: server error retrieving url: code=3 message=\"Invalid Parameter Exception: DArrayDimension.setProjection: Bad Projection Request: stop >= size: 277:275\"oc_open: server error retrieving url: code=3 message=\"Invalid Parameter Exception: DArrayDimension.setProjection: Bad Projection Request: stop >= size: 276:275\"oc_open: server error retrieving url: code=3 message=\"Invalid Parameter Exception: DArrayDimension.setProjection: Bad Projection Request: stop >= size: 275:275\""
     ]
    },
    {
     "name": "stdout",
     "output_type": "stream",
     "text": [
      "Error for Month: 06, day: 15, time_end = 276\n",
      "Error for Month: 06, day: 15, time_end = 275\n",
      "Error for Month: 06, day: 15, time_end = 274\n",
      "Error for Month: 06, day: 15, time_end = 273\n",
      "Error for Month: 06, day: 15, time_end = 272\n"
     ]
    },
    {
     "name": "stderr",
     "output_type": "stream",
     "text": [
      " 50%|█████     | 15/30 [04:05<03:03, 12.22s/it]"
     ]
    },
    {
     "name": "stdout",
     "output_type": "stream",
     "text": [
      "Error for Month: 06, day: 15, time_end = 271\n"
     ]
    },
    {
     "name": "stderr",
     "output_type": "stream",
     "text": [
      "oc_open: server error retrieving url: code=3 message=\"Invalid Parameter Exception: DArrayDimension.setProjection: Bad Projection Request: stop >= size: 287:273\"oc_open: server error retrieving url: code=3 message=\"Invalid Parameter Exception: DArrayDimension.setProjection: Bad Projection Request: stop >= size: 287:273\"oc_open: server error retrieving url: code=3 message=\"Invalid Parameter Exception: DArrayDimension.setProjection: Bad Projection Request: stop >= size: 286:273\""
     ]
    },
    {
     "name": "stdout",
     "output_type": "stream",
     "text": [
      "Error for Month: 06, day: 16\n",
      "Error for Month: 06, day: 16, time_end = 287\n",
      "Error for Month: 06, day: 16, time_end = 286\n"
     ]
    },
    {
     "name": "stderr",
     "output_type": "stream",
     "text": [
      "oc_open: server error retrieving url: code=3 message=\"Invalid Parameter Exception: DArrayDimension.setProjection: Bad Projection Request: stop >= size: 285:273\"oc_open: server error retrieving url: code=3 message=\"Invalid Parameter Exception: DArrayDimension.setProjection: Bad Projection Request: stop >= size: 284:273\"oc_open: server error retrieving url: code=3 message=\"Invalid Parameter Exception: DArrayDimension.setProjection: Bad Projection Request: stop >= size: 283:273\"oc_open: server error retrieving url: code=3 message=\"Invalid Parameter Exception: DArrayDimension.setProjection: Bad Projection Request: stop >= size: 282:273\"oc_open: server error retrieving url: code=3 message=\"Invalid Parameter Exception: DArrayDimension.setProjection: Bad Projection Request: stop >= size: 281:273\""
     ]
    },
    {
     "name": "stdout",
     "output_type": "stream",
     "text": [
      "Error for Month: 06, day: 16, time_end = 285\n",
      "Error for Month: 06, day: 16, time_end = 284\n",
      "Error for Month: 06, day: 16, time_end = 283\n",
      "Error for Month: 06, day: 16, time_end = 282\n",
      "Error for Month: 06, day: 16, time_end = 281\n"
     ]
    },
    {
     "name": "stderr",
     "output_type": "stream",
     "text": [
      "oc_open: server error retrieving url: code=3 message=\"Invalid Parameter Exception: DArrayDimension.setProjection: Bad Projection Request: stop >= size: 280:273\"oc_open: server error retrieving url: code=3 message=\"Invalid Parameter Exception: DArrayDimension.setProjection: Bad Projection Request: stop >= size: 279:273\"oc_open: server error retrieving url: code=3 message=\"Invalid Parameter Exception: DArrayDimension.setProjection: Bad Projection Request: stop >= size: 278:273\"oc_open: server error retrieving url: code=3 message=\"Invalid Parameter Exception: DArrayDimension.setProjection: Bad Projection Request: stop >= size: 277:273\"oc_open: server error retrieving url: code=3 message=\"Invalid Parameter Exception: DArrayDimension.setProjection: Bad Projection Request: stop >= size: 276:273\"oc_open: server error retrieving url: code=3 message=\"Invalid Parameter Exception: DArrayDimension.setProjection: Bad Projection Request: stop >= size: 275:273\"oc_open: server error retrieving url: code=3 message=\"Invalid Parameter Exception: DArrayDimension.setProjection: Bad Projection Request: stop >= size: 274:273\"oc_open: server error retrieving url: code=3 message=\"Invalid Parameter Exception: DArrayDimension.setProjection: Bad Projection Request: stop >= size: 273:273\""
     ]
    },
    {
     "name": "stdout",
     "output_type": "stream",
     "text": [
      "Error for Month: 06, day: 16, time_end = 280\n",
      "Error for Month: 06, day: 16, time_end = 279\n",
      "Error for Month: 06, day: 16, time_end = 278\n",
      "Error for Month: 06, day: 16, time_end = 277\n",
      "Error for Month: 06, day: 16, time_end = 276\n",
      "Error for Month: 06, day: 16, time_end = 275\n",
      "Error for Month: 06, day: 16, time_end = 274\n"
     ]
    },
    {
     "name": "stderr",
     "output_type": "stream",
     "text": [
      " 53%|█████▎    | 16/30 [04:09<02:17,  9.81s/it]"
     ]
    },
    {
     "name": "stdout",
     "output_type": "stream",
     "text": [
      "Error for Month: 06, day: 16, time_end = 273\n",
      "Error for Month: 06, day: 16, time_end = 272\n",
      "Error for Month: 06, day: 16, time_end = 271\n"
     ]
    },
    {
     "name": "stderr",
     "output_type": "stream",
     "text": [
      " 57%|█████▋    | 17/30 [04:27<02:36, 12.06s/it]"
     ]
    },
    {
     "name": "stdout",
     "output_type": "stream",
     "text": [
      "Error for Month: 06, day: 18\n",
      "Error for Month: 06, day: 18, time_end = 287\n"
     ]
    },
    {
     "name": "stderr",
     "output_type": "stream",
     "text": [
      "oc_open: server error retrieving url: code=3 message=\"Invalid Parameter Exception: DArrayDimension.setProjection: Bad Projection Request: stop >= size: 287:287\"oc_open: server error retrieving url: code=3 message=\"Invalid Parameter Exception: DArrayDimension.setProjection: Bad Projection Request: stop >= size: 287:287\""
     ]
    },
    {
     "name": "stdout",
     "output_type": "stream",
     "text": [
      "Error for Month: 06, day: 18, time_end = 286\n",
      "Error for Month: 06, day: 18, time_end = 285\n",
      "Error for Month: 06, day: 18, time_end = 284\n",
      "Error for Month: 06, day: 18, time_end = 283\n",
      "Error for Month: 06, day: 18, time_end = 282\n",
      "Error for Month: 06, day: 18, time_end = 281\n",
      "Error for Month: 06, day: 18, time_end = 280\n",
      "Error for Month: 06, day: 18, time_end = 279\n",
      "Error for Month: 06, day: 18, time_end = 278\n",
      "Error for Month: 06, day: 18, time_end = 277\n",
      "Error for Month: 06, day: 18, time_end = 276\n",
      "Error for Month: 06, day: 18, time_end = 275\n",
      "Error for Month: 06, day: 18, time_end = 274\n",
      "Error for Month: 06, day: 18, time_end = 273\n"
     ]
    },
    {
     "name": "stderr",
     "output_type": "stream",
     "text": [
      " 60%|██████    | 18/30 [04:33<02:05, 10.44s/it]"
     ]
    },
    {
     "name": "stdout",
     "output_type": "stream",
     "text": [
      "Error for Month: 06, day: 18, time_end = 272\n",
      "Error for Month: 06, day: 18, time_end = 271\n"
     ]
    },
    {
     "name": "stderr",
     "output_type": "stream",
     "text": [
      "100%|██████████| 30/30 [08:52<00:00, 17.74s/it]\n",
      "  0%|          | 0/31 [00:00<?, ?it/s]oc_open: server error retrieving url: code=3 message=\"Invalid Parameter Exception: DArrayDimension.setProjection: Bad Projection Request: stop >= size: 287:286\"oc_open: server error retrieving url: code=3 message=\"Invalid Parameter Exception: DArrayDimension.setProjection: Bad Projection Request: stop >= size: 287:286\"oc_open: server error retrieving url: code=3 message=\"Invalid Parameter Exception: DArrayDimension.setProjection: Bad Projection Request: stop >= size: 286:286\""
     ]
    },
    {
     "name": "stdout",
     "output_type": "stream",
     "text": [
      "Error for Month: 07, day: 01\n",
      "Error for Month: 07, day: 01, time_end = 287\n",
      "Error for Month: 07, day: 01, time_end = 286\n",
      "Error for Month: 07, day: 01, time_end = 285\n",
      "Error for Month: 07, day: 01, time_end = 284\n",
      "Error for Month: 07, day: 01, time_end = 283\n",
      "Error for Month: 07, day: 01, time_end = 282\n",
      "Error for Month: 07, day: 01, time_end = 281\n",
      "Error for Month: 07, day: 01, time_end = 280\n",
      "Error for Month: 07, day: 01, time_end = 279\n",
      "Error for Month: 07, day: 01, time_end = 278\n",
      "Error for Month: 07, day: 01, time_end = 277\n",
      "Error for Month: 07, day: 01, time_end = 276\n",
      "Error for Month: 07, day: 01, time_end = 275\n",
      "Error for Month: 07, day: 01, time_end = 274\n",
      "Error for Month: 07, day: 01, time_end = 273\n",
      "Error for Month: 07, day: 01, time_end = 272\n"
     ]
    },
    {
     "name": "stderr",
     "output_type": "stream",
     "text": [
      "  3%|▎         | 1/31 [00:06<03:29,  6.97s/it]"
     ]
    },
    {
     "name": "stdout",
     "output_type": "stream",
     "text": [
      "Error for Month: 07, day: 01, time_end = 271\n"
     ]
    },
    {
     "name": "stderr",
     "output_type": "stream",
     "text": [
      " 16%|█▌        | 5/31 [01:20<07:31, 17.36s/it]oc_open: server error retrieving url: code=3 message=\"Invalid Parameter Exception: DArrayDimension.setProjection: Bad Projection Request: stop >= size: 287:277\"oc_open: server error retrieving url: code=3 message=\"Invalid Parameter Exception: DArrayDimension.setProjection: Bad Projection Request: stop >= size: 287:277\"oc_open: server error retrieving url: code=3 message=\"Invalid Parameter Exception: DArrayDimension.setProjection: Bad Projection Request: stop >= size: 286:277\"oc_open: server error retrieving url: code=3 message=\"Invalid Parameter Exception: DArrayDimension.setProjection: Bad Projection Request: stop >= size: 285:277\"oc_open: server error retrieving url: code=3 message=\"Invalid Parameter Exception: DArrayDimension.setProjection: Bad Projection Request: stop >= size: 284:277\"oc_open: server error retrieving url: code=3 message=\"Invalid Parameter Exception: DArrayDimension.setProjection: Bad Projection Request: stop >= size: 283:277\""
     ]
    },
    {
     "name": "stdout",
     "output_type": "stream",
     "text": [
      "Error for Month: 07, day: 06\n",
      "Error for Month: 07, day: 06, time_end = 287\n",
      "Error for Month: 07, day: 06, time_end = 286\n",
      "Error for Month: 07, day: 06, time_end = 285\n",
      "Error for Month: 07, day: 06, time_end = 284\n",
      "Error for Month: 07, day: 06, time_end = 283\n",
      "Error for Month: 07, day: 06, time_end = 282\n"
     ]
    },
    {
     "name": "stderr",
     "output_type": "stream",
     "text": [
      "oc_open: server error retrieving url: code=3 message=\"Invalid Parameter Exception: DArrayDimension.setProjection: Bad Projection Request: stop >= size: 282:277\"oc_open: server error retrieving url: code=3 message=\"Invalid Parameter Exception: DArrayDimension.setProjection: Bad Projection Request: stop >= size: 281:277\"oc_open: server error retrieving url: code=3 message=\"Invalid Parameter Exception: DArrayDimension.setProjection: Bad Projection Request: stop >= size: 280:277\"oc_open: server error retrieving url: code=3 message=\"Invalid Parameter Exception: DArrayDimension.setProjection: Bad Projection Request: stop >= size: 279:277\"oc_open: server error retrieving url: code=3 message=\"Invalid Parameter Exception: DArrayDimension.setProjection: Bad Projection Request: stop >= size: 278:277\"oc_open: server error retrieving url: code=3 message=\"Invalid Parameter Exception: DArrayDimension.setProjection: Bad Projection Request: stop >= size: 277:277\""
     ]
    },
    {
     "name": "stdout",
     "output_type": "stream",
     "text": [
      "Error for Month: 07, day: 06, time_end = 281\n",
      "Error for Month: 07, day: 06, time_end = 280\n",
      "Error for Month: 07, day: 06, time_end = 279\n",
      "Error for Month: 07, day: 06, time_end = 278\n",
      "Error for Month: 07, day: 06, time_end = 277\n",
      "Error for Month: 07, day: 06, time_end = 276\n",
      "Error for Month: 07, day: 06, time_end = 275\n",
      "Error for Month: 07, day: 06, time_end = 274\n",
      "Error for Month: 07, day: 06, time_end = 273\n"
     ]
    },
    {
     "name": "stderr",
     "output_type": "stream",
     "text": [
      " 19%|█▉        | 6/31 [01:26<05:31, 13.26s/it]"
     ]
    },
    {
     "name": "stdout",
     "output_type": "stream",
     "text": [
      "Error for Month: 07, day: 06, time_end = 272\n",
      "Error for Month: 07, day: 06, time_end = 271\n",
      "Error for Month: 07, day: 07\n",
      "Error for Month: 07, day: 07, time_end = 287\n",
      "Error for Month: 07, day: 07, time_end = 286\n",
      "Error for Month: 07, day: 07, time_end = 285\n"
     ]
    },
    {
     "name": "stderr",
     "output_type": "stream",
     "text": [
      "oc_open: server error retrieving url: code=3 message=\"Invalid Parameter Exception: DArrayDimension.setProjection: Bad Projection Request: stop >= size: 287:286\"oc_open: server error retrieving url: code=3 message=\"Invalid Parameter Exception: DArrayDimension.setProjection: Bad Projection Request: stop >= size: 287:286\"oc_open: server error retrieving url: code=3 message=\"Invalid Parameter Exception: DArrayDimension.setProjection: Bad Projection Request: stop >= size: 286:286\""
     ]
    },
    {
     "name": "stdout",
     "output_type": "stream",
     "text": [
      "Error for Month: 07, day: 07, time_end = 284\n",
      "Error for Month: 07, day: 07, time_end = 283\n",
      "Error for Month: 07, day: 07, time_end = 282\n",
      "Error for Month: 07, day: 07, time_end = 281\n",
      "Error for Month: 07, day: 07, time_end = 280\n",
      "Error for Month: 07, day: 07, time_end = 279\n",
      "Error for Month: 07, day: 07, time_end = 278\n",
      "Error for Month: 07, day: 07, time_end = 277\n",
      "Error for Month: 07, day: 07, time_end = 276\n",
      "Error for Month: 07, day: 07, time_end = 275\n",
      "Error for Month: 07, day: 07, time_end = 274\n",
      "Error for Month: 07, day: 07, time_end = 273\n"
     ]
    },
    {
     "name": "stderr",
     "output_type": "stream",
     "text": [
      " 23%|██▎       | 7/31 [01:32<04:23, 10.99s/it]"
     ]
    },
    {
     "name": "stdout",
     "output_type": "stream",
     "text": [
      "Error for Month: 07, day: 07, time_end = 272\n",
      "Error for Month: 07, day: 07, time_end = 271\n"
     ]
    },
    {
     "name": "stderr",
     "output_type": "stream",
     "text": [
      " 32%|███▏      | 10/31 [02:32<05:58, 17.05s/it]oc_open: server error retrieving url: code=3 message=\"Invalid Parameter Exception: DArrayDimension.setProjection: Bad Projection Request: stop >= size: 287:217\"oc_open: server error retrieving url: code=3 message=\"Invalid Parameter Exception: DArrayDimension.setProjection: Bad Projection Request: stop >= size: 287:217\"oc_open: server error retrieving url: code=3 message=\"Invalid Parameter Exception: DArrayDimension.setProjection: Bad Projection Request: stop >= size: 286:217\"oc_open: server error retrieving url: code=3 message=\"Invalid Parameter Exception: DArrayDimension.setProjection: Bad Projection Request: stop >= size: 285:217\""
     ]
    },
    {
     "name": "stdout",
     "output_type": "stream",
     "text": [
      "Error for Month: 07, day: 11\n",
      "Error for Month: 07, day: 11, time_end = 287\n",
      "Error for Month: 07, day: 11, time_end = 286\n",
      "Error for Month: 07, day: 11, time_end = 285\n",
      "Error for Month: 07, day: 11, time_end = 284"
     ]
    },
    {
     "name": "stderr",
     "output_type": "stream",
     "text": [
      "oc_open: server error retrieving url: code=3 message=\"Invalid Parameter Exception: DArrayDimension.setProjection: Bad Projection Request: stop >= size: 284:217\"oc_open: server error retrieving url: code=3 message=\"Invalid Parameter Exception: DArrayDimension.setProjection: Bad Projection Request: stop >= size: 283:217\"oc_open: server error retrieving url: code=3 message=\"Invalid Parameter Exception: DArrayDimension.setProjection: Bad Projection Request: stop >= size: 282:217\""
     ]
    },
    {
     "name": "stdout",
     "output_type": "stream",
     "text": [
      "\n",
      "Error for Month: 07, day: 11, time_end = 283\n",
      "Error for Month: 07, day: 11, time_end = 282\n",
      "Error for Month: 07, day: 11, time_end = 281\n",
      "Error for Month: 07, day: 11, time_end = 280\n",
      "Error for Month: 07, day: 11, time_end = 279\n",
      "Error for Month: 07, day: 11, time_end = 278\n",
      "Error for Month: 07, day: 11, time_end = 277"
     ]
    },
    {
     "name": "stderr",
     "output_type": "stream",
     "text": [
      " 35%|███▌      | 11/31 [02:36<04:24, 13.21s/it]ssage=\"Invalid Parameter Exception: DArrayDimension.setProjection: Bad Projection Request: stop >= size: 281:217\"oc_open: server error retrieving url: code=3 message=\"Invalid Parameter Exception: DArrayDimension.setProjection: Bad Projection Request: stop >= size: 280:217\"oc_open: server error retrieving url: code=3 message=\"Invalid Parameter Exception: DArrayDimension.setProjection: Bad Projection Request: stop >= size: 279:217\"oc_open: server error retrieving url: code=3 message=\"Invalid Parameter Exception: DArrayDimension.setProjection: Bad Projection Request: stop >= size: 278:217\"oc_open: server error retrieving url: code=3 message=\"Invalid Parameter Exception: DArrayDimension.setProjection: Bad Projection Request: stop >= size: 277:217\"oc_open: server error retrieving url: code=3 message=\"Invalid Parameter Exception: DArrayDimension.setProjection: Bad Projection Request: stop >= size: 276:217\"oc_open: server error retrieving url: code=3 message=\"Invalid Parameter Exception: DArrayDimension.setProjection: Bad Projection Request: stop >= size: 275:217\"oc_open: server error retrieving url: code=3 message=\"Invalid Parameter Exception: DArrayDimension.setProjection: Bad Projection Request: stop >= size: 274:217\"oc_open: server error retrieving url: code=3 message=\"Invalid Parameter Exception: DArrayDimension.setProjection: Bad Projection Request: stop >= size: 273:217\"oc_open: server error retrieving url: code=3 message=\"Invalid Parameter Exception: DArrayDimension.setProjection: Bad Projection Request: stop >= size: 272:217\"oc_open: server error retrieving url: code=3 message=\"Invalid Parameter Exception: DArrayDimension.setProjection: Bad Projection Request: stop >= size: 271:217\""
     ]
    },
    {
     "name": "stdout",
     "output_type": "stream",
     "text": [
      "\n",
      "Error for Month: 07, day: 11, time_end = 276\n",
      "Error for Month: 07, day: 11, time_end = 275\n",
      "Error for Month: 07, day: 11, time_end = 274\n",
      "Error for Month: 07, day: 11, time_end = 273\n",
      "Error for Month: 07, day: 11, time_end = 272\n",
      "Error for Month: 07, day: 11, time_end = 271\n",
      "Error for Month: 07, day: 12\n",
      "Error for Month: 07, day: 12, time_end = 287\n"
     ]
    },
    {
     "name": "stderr",
     "output_type": "stream",
     "text": [
      "oc_open: server error retrieving url: code=3 message=\"Invalid Parameter Exception: DArrayDimension.setProjection: Bad Projection Request: stop >= size: 287:287\"oc_open: server error retrieving url: code=3 message=\"Invalid Parameter Exception: DArrayDimension.setProjection: Bad Projection Request: stop >= size: 287:287\""
     ]
    },
    {
     "name": "stdout",
     "output_type": "stream",
     "text": [
      "Error for Month: 07, day: 12, time_end = 286\n",
      "Error for Month: 07, day: 12, time_end = 285\n",
      "Error for Month: 07, day: 12, time_end = 284\n",
      "Error for Month: 07, day: 12, time_end = 283\n",
      "Error for Month: 07, day: 12, time_end = 282\n",
      "Error for Month: 07, day: 12, time_end = 281\n",
      "Error for Month: 07, day: 12, time_end = 280\n",
      "Error for Month: 07, day: 12, time_end = 279\n",
      "Error for Month: 07, day: 12, time_end = 278\n",
      "Error for Month: 07, day: 12, time_end = 277\n",
      "Error for Month: 07, day: 12, time_end = 276\n",
      "Error for Month: 07, day: 12, time_end = 275\n",
      "Error for Month: 07, day: 12, time_end = 274\n",
      "Error for Month: 07, day: 12, time_end = 273\n",
      "Error for Month: 07, day: 12, time_end = 272\n"
     ]
    },
    {
     "name": "stderr",
     "output_type": "stream",
     "text": [
      " 39%|███▊      | 12/31 [02:50<04:10, 13.17s/it]"
     ]
    },
    {
     "name": "stdout",
     "output_type": "stream",
     "text": [
      "Error for Month: 07, day: 12, time_end = 271\n"
     ]
    },
    {
     "name": "stderr",
     "output_type": "stream",
     "text": [
      "100%|██████████| 31/31 [09:19<00:00, 18.05s/it]\n",
      " 77%|███████▋  | 24/31 [08:21<02:37, 22.43s/it]oc_open: server error retrieving url: code=3 message=\"Invalid Parameter Exception: DArrayDimension.setProjection: Bad Projection Request: stop >= size: 287:282\"oc_open: server error retrieving url: code=3 message=\"Invalid Parameter Exception: DArrayDimension.setProjection: Bad Projection Request: stop >= size: 287:282\"oc_open: server error retrieving url: code=3 message=\"Invalid Parameter Exception: DArrayDimension.setProjection: Bad Projection Request: stop >= size: 286:282\""
     ]
    },
    {
     "name": "stdout",
     "output_type": "stream",
     "text": [
      "Error for Month: 08, day: 25\n",
      "Error for Month: 08, day: 25, time_end = 287\n",
      "Error for Month: 08, day: 25, time_end = 286"
     ]
    },
    {
     "name": "stderr",
     "output_type": "stream",
     "text": [
      "oc_open: server error retrieving url: code=3 message=\"Invalid Parameter Exception: DArrayDimension.setProjection: Bad Projection Request: stop >= size: 285:282\"oc_open: server error retrieving url: code=3 message=\"Invalid Parameter Exception: DArrayDimension.setProjection: Bad Projection Request: stop >= size: 284:282\"oc_open: server error retrieving url: code=3 message=\"Invalid Parameter Exception: DArrayDimension.setProjection: Bad Projection Request: stop >= size: 283:282\"oc_open: server error retrieving url: code=3 message=\"Invalid Parameter Exception: DArrayDimension.setProjection: Bad Projection Request: stop >= size: 282:282\""
     ]
    },
    {
     "name": "stdout",
     "output_type": "stream",
     "text": [
      "\n",
      "Error for Month: 08, day: 25, time_end = 285\n",
      "Error for Month: 08, day: 25, time_end = 284\n",
      "Error for Month: 08, day: 25, time_end = 283\n",
      "Error for Month: 08, day: 25, time_end = 282\n",
      "Error for Month: 08, day: 25, time_end = 281\n",
      "Error for Month: 08, day: 25, time_end = 280\n",
      "Error for Month: 08, day: 25, time_end = 279\n",
      "Error for Month: 08, day: 25, time_end = 278\n",
      "Error for Month: 08, day: 25, time_end = 277\n",
      "Error for Month: 08, day: 25, time_end = 276\n",
      "Error for Month: 08, day: 25, time_end = 275\n",
      "Error for Month: 08, day: 25, time_end = 274\n",
      "Error for Month: 08, day: 25, time_end = 273\n"
     ]
    },
    {
     "name": "stderr",
     "output_type": "stream",
     "text": [
      " 81%|████████  | 25/31 [08:27<01:44, 17.41s/it]"
     ]
    },
    {
     "name": "stdout",
     "output_type": "stream",
     "text": [
      "Error for Month: 08, day: 25, time_end = 272\n",
      "Error for Month: 08, day: 25, time_end = 271\n"
     ]
    },
    {
     "name": "stderr",
     "output_type": "stream",
     "text": [
      " 97%|█████████▋| 30/31 [10:07<00:19, 19.07s/it]oc_open: server error retrieving url: code=3 message=\"Invalid Parameter Exception: DArrayDimension.setProjection: Bad Projection Request: stop >= size: 287:277\"oc_open: server error retrieving url: code=3 message=\"Invalid Parameter Exception: DArrayDimension.setProjection: Bad Projection Request: stop >= size: 287:277\"oc_open: server error retrieving url: code=3 message=\"Invalid Parameter Exception: DArrayDimension.setProjection: Bad Projection Request: stop >= size: 286:277\"oc_open: server error retrieving url: code=3 message=\"Invalid Parameter Exception: DArrayDimension.setProjection: Bad Projection Request: stop >= size: 285:277\"oc_open: server error retrieving url: code=3 message=\"Invalid Parameter Exception: DArrayDimension.setProjection: Bad Projection Request: stop >= size: 284:277\"oc_open: server error retrieving url: code=3 message=\"Invalid Parameter Exception: DArrayDimension.setProjection: Bad Projection Request: stop >= size: 283:277\"oc_open: server error retrieving url: code=3 message=\"Invalid Parameter Exception: DArrayDimension.setProjection: Bad Projection Request: stop >= size: 282:277\""
     ]
    },
    {
     "name": "stdout",
     "output_type": "stream",
     "text": [
      "Error for Month: 08, day: 31\n",
      "Error for Month: 08, day: 31, time_end = 287\n",
      "Error for Month: 08, day: 31, time_end = 286\n",
      "Error for Month: 08, day: 31, time_end = 285\n",
      "Error for Month: 08, day: 31, time_end = 284\n",
      "Error for Month: 08, day: 31, time_end = 283\n",
      "Error for Month: 08, day: 31, time_end = 282\n",
      "Error for Month: 08, day: 31, time_end = 281\n",
      "Error for Month: 08, day: 31, time_end = 280\n",
      "Error for Month: 08, day: 31, time_end = 279\n",
      "Error for Month: 08, day: 31, time_end = 278\n",
      "Error for Month: 08, day: 31, time_end = 277\n"
     ]
    },
    {
     "name": "stderr",
     "output_type": "stream",
     "text": [
      "oc_open: server error retrieving url: code=3 message=\"Invalid Parameter Exception: DArrayDimension.setProjection: Bad Projection Request: stop >= size: 281:277\"oc_open: server error retrieving url: code=3 message=\"Invalid Parameter Exception: DArrayDimension.setProjection: Bad Projection Request: stop >= size: 280:277\"oc_open: server error retrieving url: code=3 message=\"Invalid Parameter Exception: DArrayDimension.setProjection: Bad Projection Request: stop >= size: 279:277\"oc_open: server error retrieving url: code=3 message=\"Invalid Parameter Exception: DArrayDimension.setProjection: Bad Projection Request: stop >= size: 278:277\"oc_open: server error retrieving url: code=3 message=\"Invalid Parameter Exception: DArrayDimension.setProjection: Bad Projection Request: stop >= size: 277:277\""
     ]
    },
    {
     "name": "stdout",
     "output_type": "stream",
     "text": [
      "Error for Month: 08, day: 31, time_end = 276\n",
      "Error for Month: 08, day: 31, time_end = 275\n",
      "Error for Month: 08, day: 31, time_end = 274\n",
      "Error for Month: 08, day: 31, time_end = 273\n"
     ]
    },
    {
     "name": "stderr",
     "output_type": "stream",
     "text": [
      "100%|██████████| 31/31 [10:12<00:00, 19.77s/it]\n"
     ]
    },
    {
     "name": "stdout",
     "output_type": "stream",
     "text": [
      "Error for Month: 08, day: 31, time_end = 272\n",
      "Error for Month: 08, day: 31, time_end = 271\n"
     ]
    },
    {
     "name": "stderr",
     "output_type": "stream",
     "text": [
      " 20%|██        | 6/30 [01:55<07:54, 19.79s/it]oc_open: server error retrieving url: code=3 message=\"Invalid Parameter Exception: DArrayDimension.setProjection: Bad Projection Request: stop >= size: 287:263\"oc_open: server error retrieving url: code=3 message=\"Invalid Parameter Exception: DArrayDimension.setProjection: Bad Projection Request: stop >= size: 287:263\"oc_open: server error retrieving url: code=3 message=\"Invalid Parameter Exception: DArrayDimension.setProjection: Bad Projection Request: stop >= size: 286:263\"oc_open: server error retrieving url: code=3 message=\"Invalid Parameter Exception: DArrayDimension.setProjection: Bad Projection Request: stop >= size: 285:263\"oc_open: server error retrieving url: code=3 message=\"Invalid Parameter Exception: DArrayDimension.setProjection: Bad Projection Request: stop >= size: 284:263\""
     ]
    },
    {
     "name": "stdout",
     "output_type": "stream",
     "text": [
      "Error for Month: 09, day: 07\n",
      "Error for Month: 09, day: 07, time_end = 287\n",
      "Error for Month: 09, day: 07, time_end = 286\n",
      "Error for Month: 09, day: 07, time_end = 285\n",
      "Error for Month: 09, day: 07, time_end = 284\n",
      "Error for Month: 09, day: 07, time_end = 283\n",
      "Error for Month: 09, day: 07, time_end = 282\n",
      "Error for Month: 09, day: 07, time_end = 281\n",
      "Error for Month: 09, day: 07, time_end = 280\n"
     ]
    },
    {
     "name": "stderr",
     "output_type": "stream",
     "text": [
      "oc_open: server error retrieving url: code=3 message=\"Invalid Parameter Exception: DArrayDimension.setProjection: Bad Projection Request: stop >= size: 283:263\"oc_open: server error retrieving url: code=3 message=\"Invalid Parameter Exception: DArrayDimension.setProjection: Bad Projection Request: stop >= size: 282:263\"oc_open: server error retrieving url: code=3 message=\"Invalid Parameter Exception: DArrayDimension.setProjection: Bad Projection Request: stop >= size: 281:263\"oc_open: server error retrieving url: code=3 message=\"Invalid Parameter Exception: DArrayDimension.setProjection: Bad Projection Request: stop >= size: 280:263\"oc_open: server error retrieving url: code=3 message=\"Invalid Parameter Exception: DArrayDimension.setProjection: Bad Projection Request: stop >= size: 279:263\""
     ]
    },
    {
     "name": "stdout",
     "output_type": "stream",
     "text": [
      "Error for Month: 09, day: 07, time_end = 279\n",
      "Error for Month: 09, day: 07, time_end = 278\n",
      "Error for Month: 09, day: 07, time_end = 277\n",
      "Error for Month: 09, day: 07, time_end = 276\n",
      "Error for Month: 09, day: 07, time_end = 275\n",
      "Error for Month: 09, day: 07, time_end = 274\n"
     ]
    },
    {
     "name": "stderr",
     "output_type": "stream",
     "text": [
      " 23%|██▎       | 7/30 [01:59<05:37, 14.67s/it]essage=\"Invalid Parameter Exception: DArrayDimension.setProjection: Bad Projection Request: stop >= size: 278:263\"oc_open: server error retrieving url: code=3 message=\"Invalid Parameter Exception: DArrayDimension.setProjection: Bad Projection Request: stop >= size: 277:263\"oc_open: server error retrieving url: code=3 message=\"Invalid Parameter Exception: DArrayDimension.setProjection: Bad Projection Request: stop >= size: 276:263\"oc_open: server error retrieving url: code=3 message=\"Invalid Parameter Exception: DArrayDimension.setProjection: Bad Projection Request: stop >= size: 275:263\"oc_open: server error retrieving url: code=3 message=\"Invalid Parameter Exception: DArrayDimension.setProjection: Bad Projection Request: stop >= size: 274:263\"oc_open: server error retrieving url: code=3 message=\"Invalid Parameter Exception: DArrayDimension.setProjection: Bad Projection Request: stop >= size: 273:263\"oc_open: server error retrieving url: code=3 message=\"Invalid Parameter Exception: DArrayDimension.setProjection: Bad Projection Request: stop >= size: 272:263\"oc_open: server error retrieving url: code=3 message=\"Invalid Parameter Exception: DArrayDimension.setProjection: Bad Projection Request: stop >= size: 271:263\""
     ]
    },
    {
     "name": "stdout",
     "output_type": "stream",
     "text": [
      "Error for Month: 09, day: 07, time_end = 273\n",
      "Error for Month: 09, day: 07, time_end = 272\n",
      "Error for Month: 09, day: 07, time_end = 271\n"
     ]
    },
    {
     "name": "stderr",
     "output_type": "stream",
     "text": [
      "oc_open: server error retrieving url: code=3 message=\"Invalid Parameter Exception: DArrayDimension.setProjection: Bad Projection Request: stop >= size: 287:286\"oc_open: server error retrieving url: code=3 message=\"Invalid Parameter Exception: DArrayDimension.setProjection: Bad Projection Request: stop >= size: 287:286\"oc_open: server error retrieving url: code=3 message=\"Invalid Parameter Exception: DArrayDimension.setProjection: Bad Projection Request: stop >= size: 286:286\""
     ]
    },
    {
     "name": "stdout",
     "output_type": "stream",
     "text": [
      "Error for Month: 09, day: 08\n",
      "Error for Month: 09, day: 08, time_end = 287\n",
      "Error for Month: 09, day: 08, time_end = 286\n",
      "Error for Month: 09, day: 08, time_end = 285\n",
      "Error for Month: 09, day: 08, time_end = 284\n",
      "Error for Month: 09, day: 08, time_end = 283\n",
      "Error for Month: 09, day: 08, time_end = 282\n",
      "Error for Month: 09, day: 08, time_end = 281\n",
      "Error for Month: 09, day: 08, time_end = 280\n",
      "Error for Month: 09, day: 08, time_end = 279\n",
      "Error for Month: 09, day: 08, time_end = 278\n",
      "Error for Month: 09, day: 08, time_end = 277\n",
      "Error for Month: 09, day: 08, time_end = 276\n",
      "Error for Month: 09, day: 08, time_end = 275\n",
      "Error for Month: 09, day: 08, time_end = 274\n",
      "Error for Month: 09, day: 08, time_end = 273\n",
      "Error for Month: 09, day: 08, time_end = 272\n"
     ]
    },
    {
     "name": "stderr",
     "output_type": "stream",
     "text": [
      " 27%|██▋       | 8/30 [02:06<04:29, 12.27s/it]"
     ]
    },
    {
     "name": "stdout",
     "output_type": "stream",
     "text": [
      "Error for Month: 09, day: 08, time_end = 271\n"
     ]
    },
    {
     "name": "stderr",
     "output_type": "stream",
     "text": [
      " 40%|████      | 12/30 [03:38<06:17, 20.98s/it]"
     ]
    },
    {
     "name": "stdout",
     "output_type": "stream",
     "text": [
      "Error for Month: 09, day: 13\n",
      "Error for Month: 09, day: 13, time_end = 287\n"
     ]
    },
    {
     "name": "stderr",
     "output_type": "stream",
     "text": [
      "oc_open: server error retrieving url: code=3 message=\"Invalid Parameter Exception: DArrayDimension.setProjection: Bad Projection Request: stop >= size: 287:287\""
     ]
    },
    {
     "name": "stdout",
     "output_type": "stream",
     "text": [
      "Error for Month: 09, day: 13, time_end = 286\n",
      "Error for Month: 09, day: 13, time_end = 285\n",
      "Error for Month: 09, day: 13, time_end = 284\n",
      "Error for Month: 09, day: 13, time_end = 283\n",
      "Error for Month: 09, day: 13, time_end = 282\n",
      "Error for Month: 09, day: 13, time_end = 281\n",
      "Error for Month: 09, day: 13, time_end = 280\n",
      "Error for Month: 09, day: 13, time_end = 279\n",
      "Error for Month: 09, day: 13, time_end = 278\n",
      "Error for Month: 09, day: 13, time_end = 277\n",
      "Error for Month: 09, day: 13, time_end = 276\n",
      "Error for Month: 09, day: 13, time_end = 275\n",
      "Error for Month: 09, day: 13, time_end = 274\n",
      "Error for Month: 09, day: 13, time_end = 273\n",
      "Error for Month: 09, day: 13, time_end = 272\n"
     ]
    },
    {
     "name": "stderr",
     "output_type": "stream",
     "text": [
      " 43%|████▎     | 13/30 [03:47<04:55, 17.39s/it]ssage=\"Invalid Parameter Exception: DArrayDimension.setProjection: Bad Projection Request: stop >= size: 287:287\""
     ]
    },
    {
     "name": "stdout",
     "output_type": "stream",
     "text": [
      "Error for Month: 09, day: 13, time_end = 271\n"
     ]
    },
    {
     "name": "stderr",
     "output_type": "stream",
     "text": [
      "100%|██████████| 30/30 [09:47<00:00, 19.57s/it]\n",
      " 19%|█▉        | 6/31 [02:26<09:36, 23.05s/it]oc_open: server error retrieving url: code=3 message=\"Invalid Parameter Exception: DArrayDimension.setProjection: Bad Projection Request: stop >= size: 287:286\"oc_open: server error retrieving url: code=3 message=\"Invalid Parameter Exception: DArrayDimension.setProjection: Bad Projection Request: stop >= size: 287:286\"oc_open: server error retrieving url: code=3 message=\"Invalid Parameter Exception: DArrayDimension.setProjection: Bad Projection Request: stop >= size: 286:286\""
     ]
    },
    {
     "name": "stdout",
     "output_type": "stream",
     "text": [
      "Error for Month: 10, day: 07\n",
      "Error for Month: 10, day: 07, time_end = 287\n",
      "Error for Month: 10, day: 07, time_end = 286\n",
      "Error for Month: 10, day: 07, time_end = 285\n",
      "Error for Month: 10, day: 07, time_end = 284\n",
      "Error for Month: 10, day: 07, time_end = 283\n",
      "Error for Month: 10, day: 07, time_end = 282\n",
      "Error for Month: 10, day: 07, time_end = 281\n",
      "Error for Month: 10, day: 07, time_end = 280\n",
      "Error for Month: 10, day: 07, time_end = 279\n",
      "Error for Month: 10, day: 07, time_end = 278\n",
      "Error for Month: 10, day: 07, time_end = 277\n",
      "Error for Month: 10, day: 07, time_end = 276\n",
      "Error for Month: 10, day: 07, time_end = 275\n",
      "Error for Month: 10, day: 07, time_end = 274\n",
      "Error for Month: 10, day: 07, time_end = 273\n",
      "Error for Month: 10, day: 07, time_end = 272\n"
     ]
    },
    {
     "name": "stderr",
     "output_type": "stream",
     "text": [
      " 23%|██▎       | 7/31 [02:32<06:59, 17.48s/it]"
     ]
    },
    {
     "name": "stdout",
     "output_type": "stream",
     "text": [
      "Error for Month: 10, day: 07, time_end = 271\n"
     ]
    },
    {
     "name": "stderr",
     "output_type": "stream",
     "text": [
      "100%|██████████| 31/31 [12:30<00:00, 24.21s/it]\n"
     ]
    }
   ],
   "source": [
    "#Get 2021:\n",
    "year = \"2021\"\n",
    "days =[\"01\",\"02\",\"03\", \"04\",\"05\",\"06\",\"07\",\"08\",\"09\",\"10\",\"11\",\"12\",\"13\",\"14\", \"15\", \"16\",\"17\",\"18\",\"19\",\"20\", \"21\",\"22\",\"23\",\"24\",\"25\",\"26\",\"27\",\"28\",\"29\",\"30\",\"31\"]\n",
    "#days pr month from april to october:\n",
    "days_in_months = [30,31, 30,31,31,30, 31]\n",
    "months = [\"04\",\"05\",\"06\",\"07\",\"08\",\"09\", \"10\"]\n",
    "\n",
    "dataset = []\n",
    "error_dict_2022 = {}\n",
    "for month_idx,month in enumerate(days_in_months):\n",
    "    days_in_month = days[:month]\n",
    "    \n",
    "    for day in tqdm(days_in_month):\n",
    "        full_time = 287\n",
    "        try:\n",
    "            data = get_open_DAP_precipitation(year,months[month_idx], day,0,full_time)\n",
    "            data.to_netcdf(f\"2023/data_{year}/{year}{months[month_idx]}{day}.nc\")\n",
    "                    \n",
    "        except OSError:\n",
    "            print(f\"Error for Month: {months[month_idx]}, day: {day}\")\n",
    "            recursive_time_shorten(year,month_idx, day, full_time)\n",
    "\n",
    "# combined = xr.concat(datasets, dim='time')\n",
    "\n"
   ]
  },
  {
   "cell_type": "code",
   "execution_count": null,
   "metadata": {},
   "outputs": [],
   "source": []
  }
 ],
 "metadata": {
  "interpreter": {
   "hash": "54d325ac27653bbd16399bc9890710378eb69529f792fa6d179297359bb410f6"
  },
  "kernelspec": {
   "display_name": "Python 3.9.7 ('ML_env')",
   "language": "python",
   "name": "python3"
  },
  "language_info": {
   "codemirror_mode": {
    "name": "ipython",
    "version": 3
   },
   "file_extension": ".py",
   "mimetype": "text/x-python",
   "name": "python",
   "nbconvert_exporter": "python",
   "pygments_lexer": "ipython3",
   "version": "3.9.7"
  },
  "orig_nbformat": 4
 },
 "nbformat": 4,
 "nbformat_minor": 2
}
