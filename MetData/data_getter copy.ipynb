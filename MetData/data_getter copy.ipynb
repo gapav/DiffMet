{
 "cells": [
  {
   "cell_type": "code",
   "execution_count": 1,
   "metadata": {},
   "outputs": [],
   "source": [
    "import netCDF4\n",
    "\n",
    "import numpy as np\n",
    "import xarray as xr\n",
    "import pandas as pd\n",
    "import seaborn as sns\n",
    "import matplotlib.pyplot as plt\n",
    "import cartopy.crs as ccrs\n",
    "import imageio\n",
    "from matplotlib.pyplot import figure\n",
    "from tqdm import tqdm\n",
    "\n",
    "%matplotlib inline\n",
    "from data_funcs.helper_module import get_open_DAP_precipitation"
   ]
  },
  {
   "cell_type": "code",
   "execution_count": 2,
   "metadata": {},
   "outputs": [],
   "source": [
    "def recursive_time_shorten(year,month_idx, day, time):\n",
    "    \n",
    "    \n",
    "    if time >270:\n",
    "        try:\n",
    "            data = get_open_DAP_precipitation(year,months[month_idx], day,0,time)\n",
    "\n",
    "            \n",
    "            \n",
    "            data.to_netcdf(f\"data_{year}/{year}{months[month_idx]}{day}.nc\")\n",
    "            print(f\"Saved: Month: {months[month_idx]}, day: {day}, with {time=}\")\n",
    "\n",
    "        except OSError:\n",
    "            print(f\"Error for Month: {months[month_idx]}, day: {day}, time_end = {time}\")\n",
    "            time -= 1\n",
    "            recursive_time_shorten(year, month_idx, day, time)"
   ]
  },
  {
   "cell_type": "code",
   "execution_count": 3,
   "metadata": {},
   "outputs": [
    {
     "name": "stderr",
     "output_type": "stream",
     "text": [
      " 10%|█         | 3/30 [01:02<09:18, 20.70s/it]oc_open: server error retrieving url: code=3 message=\"Invalid Parameter Exception: DArrayDimension.setProjection: Bad Projection Request: stop >= size: 287:285\"oc_open: server error retrieving url: code=3 message=\"Invalid Parameter Exception: DArrayDimension.setProjection: Bad Projection Request: stop >= size: 287:285\"oc_open: server error retrieving url: code=3 message=\"Invalid Parameter Exception: DArrayDimension.setProjection: Bad Projection Request: stop >= size: 286:285\"oc_open: server error retrieving url: code=3 message=\"Invalid Parameter Exception: DArrayDimension.setProjection: Bad Projection Request: stop >= size: 285:285\""
     ]
    },
    {
     "name": "stdout",
     "output_type": "stream",
     "text": [
      "Error for Month: 04, day: 04\n",
      "Error for Month: 04, day: 04, time_end = 287\n",
      "Error for Month: 04, day: 04, time_end = 286\n",
      "Error for Month: 04, day: 04, time_end = 285\n",
      "Error for Month: 04, day: 04, time_end = 284\n",
      "Error for Month: 04, day: 04, time_end = 283\n",
      "Error for Month: 04, day: 04, time_end = 282\n",
      "Error for Month: 04, day: 04, time_end = 281\n",
      "Error for Month: 04, day: 04, time_end = 280\n",
      "Error for Month: 04, day: 04, time_end = 279\n",
      "Error for Month: 04, day: 04, time_end = 278\n",
      "Error for Month: 04, day: 04, time_end = 277\n",
      "Error for Month: 04, day: 04, time_end = 276\n",
      "Error for Month: 04, day: 04, time_end = 275\n",
      "Error for Month: 04, day: 04, time_end = 274\n",
      "Error for Month: 04, day: 04, time_end = 273\n",
      "Error for Month: 04, day: 04, time_end = 272\n",
      "Error for Month: 04, day: 04, time_end = 271\n"
     ]
    },
    {
     "name": "stderr",
     "output_type": "stream",
     "text": [
      "100%|██████████| 30/30 [10:30<00:00, 21.03s/it]\n",
      "100%|██████████| 31/31 [10:24<00:00, 20.15s/it]\n",
      "100%|██████████| 30/30 [09:12<00:00, 18.42s/it]\n",
      " 94%|█████████▎| 29/31 [09:12<00:38, 19.40s/it]oc_open: server error retrieving url: code=3 message=\"Invalid Parameter Exception: DArrayDimension.setProjection: Bad Projection Request: stop >= size: 287:253\"oc_open: server error retrieving url: code=3 message=\"Invalid Parameter Exception: DArrayDimension.setProjection: Bad Projection Request: stop >= size: 287:253\"oc_open: server error retrieving url: code=3 message=\"Invalid Parameter Exception: DArrayDimension.setProjection: Bad Projection Request: stop >= size: 286:253\"oc_open: server error retrieving url: code=3 message=\"Invalid Parameter Exception: DArrayDimension.setProjection: Bad Projection Request: stop >= size: 285:253\""
     ]
    },
    {
     "name": "stdout",
     "output_type": "stream",
     "text": [
      "Error for Month: 07, day: 30\n",
      "Error for Month: 07, day: 30, time_end = 287\n",
      "Error for Month: 07, day: 30, time_end = 286\n",
      "Error for Month: 07, day: 30, time_end = 285"
     ]
    },
    {
     "name": "stderr",
     "output_type": "stream",
     "text": [
      "oc_open: server error retrieving url: code=3 message=\"Invalid Parameter Exception: DArrayDimension.setProjection: Bad Projection Request: stop >= size: 284:253\"oc_open: server error retrieving url: code=3 message=\"Invalid Parameter Exception: DArrayDimension.setProjection: Bad Projection Request: stop >= size: 283:253\"oc_open: server error retrieving url: code=3 message=\"Invalid Parameter Exception: DArrayDimension.setProjection: Bad Projection Request: stop >= size: 282:253\"oc_open: server error retrieving url: code=3 message=\"Invalid Parameter Exception: DArrayDimension.setProjection: Bad Projection Request: stop >= size: 281:253\""
     ]
    },
    {
     "name": "stdout",
     "output_type": "stream",
     "text": [
      "\n",
      "Error for Month: 07, day: 30, time_end = 284\n",
      "Error for Month: 07, day: 30, time_end = 283\n",
      "Error for Month: 07, day: 30, time_end = 282\n",
      "Error for Month: 07, day: 30, time_end = 281\n"
     ]
    },
    {
     "name": "stderr",
     "output_type": "stream",
     "text": [
      "oc_open: server error retrieving url: code=3 message=\"Invalid Parameter Exception: DArrayDimension.setProjection: Bad Projection Request: stop >= size: 280:253\"oc_open: server error retrieving url: code=3 message=\"Invalid Parameter Exception: DArrayDimension.setProjection: Bad Projection Request: stop >= size: 279:253\"oc_open: server error retrieving url: code=3 message=\"Invalid Parameter Exception: DArrayDimension.setProjection: Bad Projection Request: stop >= size: 278:253\"oc_open: server error retrieving url: code=3 message=\"Invalid Parameter Exception: DArrayDimension.setProjection: Bad Projection Request: stop >= size: 277:253\"oc_open: server error retrieving url: code=3 message=\"Invalid Parameter Exception: DArrayDimension.setProjection: Bad Projection Request: stop >= size: 276:253\"oc_open: server error retrieving url: code=3 message=\"Invalid Parameter Exception: DArrayDimension.setProjection: Bad Projection Request: stop >= size: 275:253\"oc_open: server error retrieving url: code=3 message=\"Invalid Parameter Exception: DArrayDimension.setProjection: Bad Projection Request: stop >= size: 274:253\""
     ]
    },
    {
     "name": "stdout",
     "output_type": "stream",
     "text": [
      "Error for Month: 07, day: 30, time_end = 280\n",
      "Error for Month: 07, day: 30, time_end = 279\n",
      "Error for Month: 07, day: 30, time_end = 278\n",
      "Error for Month: 07, day: 30, time_end = 277\n",
      "Error for Month: 07, day: 30, time_end = 276\n",
      "Error for Month: 07, day: 30, time_end = 275\n",
      "Error for Month: 07, day: 30, time_end = 274\n"
     ]
    },
    {
     "name": "stderr",
     "output_type": "stream",
     "text": [
      " 97%|█████████▋| 30/31 [09:16<00:14, 14.84s/it]ssage=\"Invalid Parameter Exception: DArrayDimension.setProjection: Bad Projection Request: stop >= size: 273:253\"oc_open: server error retrieving url: code=3 message=\"Invalid Parameter Exception: DArrayDimension.setProjection: Bad Projection Request: stop >= size: 272:253\"oc_open: server error retrieving url: code=3 message=\"Invalid Parameter Exception: DArrayDimension.setProjection: Bad Projection Request: stop >= size: 271:253\""
     ]
    },
    {
     "name": "stdout",
     "output_type": "stream",
     "text": [
      "Error for Month: 07, day: 30, time_end = 273\n",
      "Error for Month: 07, day: 30, time_end = 272\n",
      "Error for Month: 07, day: 30, time_end = 271\n"
     ]
    },
    {
     "name": "stderr",
     "output_type": "stream",
     "text": [
      "100%|██████████| 31/31 [09:35<00:00, 18.56s/it]\n",
      "100%|██████████| 31/31 [10:04<00:00, 19.50s/it]\n",
      " 40%|████      | 12/30 [03:40<05:51, 19.51s/it]oc_open: server error retrieving url: code=3 message=\"Invalid Parameter Exception: DArrayDimension.setProjection: Bad Projection Request: stop >= size: 287:287\"oc_open: server error retrieving url: code=3 message=\"Invalid Parameter Exception: DArrayDimension.setProjection: Bad Projection Request: stop >= size: 287:287\""
     ]
    },
    {
     "name": "stdout",
     "output_type": "stream",
     "text": [
      "Error for Month: 09, day: 13\n",
      "Error for Month: 09, day: 13, time_end = 287\n",
      "Error for Month: 09, day: 13, time_end = 286\n",
      "Error for Month: 09, day: 13, time_end = 285\n",
      "Error for Month: 09, day: 13, time_end = 284\n",
      "Error for Month: 09, day: 13, time_end = 283\n",
      "Error for Month: 09, day: 13, time_end = 282\n",
      "Error for Month: 09, day: 13, time_end = 281\n",
      "Error for Month: 09, day: 13, time_end = 280\n",
      "Error for Month: 09, day: 13, time_end = 279\n",
      "Error for Month: 09, day: 13, time_end = 278\n",
      "Error for Month: 09, day: 13, time_end = 277\n",
      "Error for Month: 09, day: 13, time_end = 276\n",
      "Error for Month: 09, day: 13, time_end = 275\n",
      "Error for Month: 09, day: 13, time_end = 274\n",
      "Error for Month: 09, day: 13, time_end = 273\n",
      "Error for Month: 09, day: 13, time_end = 272\n"
     ]
    },
    {
     "name": "stderr",
     "output_type": "stream",
     "text": [
      " 43%|████▎     | 13/30 [03:46<04:23, 15.50s/it]"
     ]
    },
    {
     "name": "stdout",
     "output_type": "stream",
     "text": [
      "Error for Month: 09, day: 13, time_end = 271\n"
     ]
    },
    {
     "name": "stderr",
     "output_type": "stream",
     "text": [
      " 70%|███████   | 21/30 [06:42<03:06, 20.75s/it]oc_open: server error retrieving url: code=3 message=\"Invalid Parameter Exception: DArrayDimension.setProjection: Bad Projection Request: stop >= size: 287:195\"oc_open: server error retrieving url: code=3 message=\"Invalid Parameter Exception: DArrayDimension.setProjection: Bad Projection Request: stop >= size: 287:195\"oc_open: server error retrieving url: code=3 message=\"Invalid Parameter Exception: DArrayDimension.setProjection: Bad Projection Request: stop >= size: 286:195\"oc_open: server error retrieving url: code=3 message=\"Invalid Parameter Exception: DArrayDimension.setProjection: Bad Projection Request: stop >= size: 285:195\"oc_open: server error retrieving url: code=3 message=\"Invalid Parameter Exception: DArrayDimension.setProjection: Bad Projection Request: stop >= size: 284:195\""
     ]
    },
    {
     "name": "stdout",
     "output_type": "stream",
     "text": [
      "Error for Month: 09, day: 22\n",
      "Error for Month: 09, day: 22, time_end = 287\n",
      "Error for Month: 09, day: 22, time_end = 286\n",
      "Error for Month: 09, day: 22, time_end = 285\n",
      "Error for Month: 09, day: 22, time_end = 284"
     ]
    },
    {
     "name": "stderr",
     "output_type": "stream",
     "text": [
      "oc_open: server error retrieving url: code=3 message=\"Invalid Parameter Exception: DArrayDimension.setProjection: Bad Projection Request: stop >= size: 283:195\"oc_open: server error retrieving url: code=3 message=\"Invalid Parameter Exception: DArrayDimension.setProjection: Bad Projection Request: stop >= size: 282:195\"oc_open: server error retrieving url: code=3 message=\"Invalid Parameter Exception: DArrayDimension.setProjection: Bad Projection Request: stop >= size: 281:195\"oc_open: server error retrieving url: code=3 message=\"Invalid Parameter Exception: DArrayDimension.setProjection: Bad Projection Request: stop >= size: 280:195\"oc_open: server error retrieving url: code=3 message=\"Invalid Parameter Exception: DArrayDimension.setProjection: Bad Projection Request: stop >= size: 279:195\"oc_open: server error retrieving url: code=3 message=\"Invalid Parameter Exception: DArrayDimension.setProjection: Bad Projection Request: stop >= size: 278:195\""
     ]
    },
    {
     "name": "stdout",
     "output_type": "stream",
     "text": [
      "\n",
      "Error for Month: 09, day: 22, time_end = 283\n",
      "Error for Month: 09, day: 22, time_end = 282\n",
      "Error for Month: 09, day: 22, time_end = 281\n",
      "Error for Month: 09, day: 22, time_end = 280\n",
      "Error for Month: 09, day: 22, time_end = 279\n",
      "Error for Month: 09, day: 22, time_end = 278\n",
      "Error for Month: 09, day: 22, time_end = 277\n",
      "Error for Month: 09, day: 22, time_end = 276\n",
      "Error for Month: 09, day: 22, time_end = 275\n"
     ]
    },
    {
     "name": "stderr",
     "output_type": "stream",
     "text": [
      " 73%|███████▎  | 22/30 [06:47<02:09, 16.16s/it]ssage=\"Invalid Parameter Exception: DArrayDimension.setProjection: Bad Projection Request: stop >= size: 277:195\"oc_open: server error retrieving url: code=3 message=\"Invalid Parameter Exception: DArrayDimension.setProjection: Bad Projection Request: stop >= size: 276:195\"oc_open: server error retrieving url: code=3 message=\"Invalid Parameter Exception: DArrayDimension.setProjection: Bad Projection Request: stop >= size: 275:195\"oc_open: server error retrieving url: code=3 message=\"Invalid Parameter Exception: DArrayDimension.setProjection: Bad Projection Request: stop >= size: 274:195\"oc_open: server error retrieving url: code=3 message=\"Invalid Parameter Exception: DArrayDimension.setProjection: Bad Projection Request: stop >= size: 273:195\"oc_open: server error retrieving url: code=3 message=\"Invalid Parameter Exception: DArrayDimension.setProjection: Bad Projection Request: stop >= size: 272:195\"oc_open: server error retrieving url: code=3 message=\"Invalid Parameter Exception: DArrayDimension.setProjection: Bad Projection Request: stop >= size: 271:195\""
     ]
    },
    {
     "name": "stdout",
     "output_type": "stream",
     "text": [
      "Error for Month: 09, day: 22, time_end = 274\n",
      "Error for Month: 09, day: 22, time_end = 273\n",
      "Error for Month: 09, day: 22, time_end = 272\n",
      "Error for Month: 09, day: 22, time_end = 271\n"
     ]
    },
    {
     "name": "stderr",
     "output_type": "stream",
     "text": [
      "100%|██████████| 30/30 [09:45<00:00, 19.53s/it]\n",
      " 32%|███▏      | 10/31 [03:26<06:44, 19.28s/it]oc_open: server error retrieving url: code=3 message=\"Invalid Parameter Exception: DArrayDimension.setProjection: Bad Projection Request: stop >= size: 287:287\"oc_open: server error retrieving url: code=3 message=\"Invalid Parameter Exception: DArrayDimension.setProjection: Bad Projection Request: stop >= size: 287:287\""
     ]
    },
    {
     "name": "stdout",
     "output_type": "stream",
     "text": [
      "Error for Month: 10, day: 11\n",
      "Error for Month: 10, day: 11, time_end = 287\n",
      "Error for Month: 10, day: 11, time_end = 286\n",
      "Error for Month: 10, day: 11, time_end = 285\n",
      "Error for Month: 10, day: 11, time_end = 284\n",
      "Error for Month: 10, day: 11, time_end = 283\n",
      "Error for Month: 10, day: 11, time_end = 282\n",
      "Error for Month: 10, day: 11, time_end = 281\n",
      "Error for Month: 10, day: 11, time_end = 280\n",
      "Error for Month: 10, day: 11, time_end = 279\n",
      "Error for Month: 10, day: 11, time_end = 278\n",
      "Error for Month: 10, day: 11, time_end = 277\n",
      "Error for Month: 10, day: 11, time_end = 276\n",
      "Error for Month: 10, day: 11, time_end = 275\n",
      "Error for Month: 10, day: 11, time_end = 274\n",
      "Error for Month: 10, day: 11, time_end = 273\n",
      "Error for Month: 10, day: 11, time_end = 272\n"
     ]
    },
    {
     "name": "stderr",
     "output_type": "stream",
     "text": [
      " 35%|███▌      | 11/31 [03:33<05:12, 15.60s/it]"
     ]
    },
    {
     "name": "stdout",
     "output_type": "stream",
     "text": [
      "Error for Month: 10, day: 11, time_end = 271\n"
     ]
    },
    {
     "name": "stderr",
     "output_type": "stream",
     "text": [
      "100%|██████████| 31/31 [11:36<00:00, 22.47s/it]\n"
     ]
    }
   ],
   "source": [
    "#Get 2021:\n",
    "year = \"2022\"\n",
    "days =[\"01\",\"02\",\"03\", \"04\",\"05\",\"06\",\"07\",\"08\",\"09\",\"10\",\"11\",\"12\",\"13\",\"14\", \"15\", \"16\",\"17\",\"18\",\"19\",\"20\", \"21\",\"22\",\"23\",\"24\",\"25\",\"26\",\"27\",\"28\",\"29\",\"30\",\"31\"]\n",
    "#days pr month from april to october:\n",
    "days_in_months = [30,31, 30,31,31,30, 31]\n",
    "months = [\"04\",\"05\",\"06\",\"07\",\"08\",\"09\", \"10\"]\n",
    "\n",
    "dataset = []\n",
    "error_dict_2022 = {}\n",
    "for month_idx,month in enumerate(days_in_months):\n",
    "    days_in_month = days[:month]\n",
    "    \n",
    "    for day in tqdm(days_in_month):\n",
    "        full_time = 287\n",
    "        try:\n",
    "            data = get_open_DAP_precipitation(year,months[month_idx], day,0,full_time)\n",
    "            data.to_netcdf(f\"2023/data_{year}/{year}{months[month_idx]}{day}.nc\")\n",
    "                    \n",
    "        except OSError:\n",
    "            print(f\"Error for Month: {months[month_idx]}, day: {day}\")\n",
    "            recursive_time_shorten(year,month_idx, day, full_time)\n",
    "\n",
    "\n",
    "\n"
   ]
  }
 ],
 "metadata": {
  "kernelspec": {
   "display_name": "Python 3.9.7 ('ML_env')",
   "language": "python",
   "name": "python3"
  },
  "language_info": {
   "codemirror_mode": {
    "name": "ipython",
    "version": 3
   },
   "file_extension": ".py",
   "mimetype": "text/x-python",
   "name": "python",
   "nbconvert_exporter": "python",
   "pygments_lexer": "ipython3",
   "version": "3.9.7"
  },
  "orig_nbformat": 4,
  "vscode": {
   "interpreter": {
    "hash": "54d325ac27653bbd16399bc9890710378eb69529f792fa6d179297359bb410f6"
   }
  }
 },
 "nbformat": 4,
 "nbformat_minor": 2
}
